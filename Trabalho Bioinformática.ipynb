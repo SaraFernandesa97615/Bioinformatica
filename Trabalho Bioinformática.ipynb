{
 "cells": [
  {
   "cell_type": "markdown",
   "id": "c9a2961f",
   "metadata": {},
   "source": [
    "# Trabalho Dataset GDS1686\n",
    "\n",
    "Datasets:\n",
    "- gds1686.csv\n",
    "- meta-gds1686.csv"
   ]
  },
  {
   "cell_type": "markdown",
   "metadata": {},
   "source": [
    "## Introdução\n",
    "\n",
    "Este estudo investigou os efeitos da privação de sono no cérebro de moscas fêmeas da espécie *Drosophila Melanogaster*, analisando variações na expressão genética. Os genes examinados já eram conhecidos por serem regulados de maneira distinta durante períodos de sono ou atividade.\n",
    "\n",
    "Foram obtidas informações sobre os processos moleculares dinâmicos que sofrem alterações durante a vigília e o sono, por meio de um estudo de perfil de expressão de RNA. Analisaram-se as mudanças temporais no cérebro da *D. Melanogaster* em relação à duração do sono ou vigília anteriores. O projeto experimental permitiu determinar se os genes identificados como regulados de forma diferencial entre o sono e a vigília estavam a ser ativados ou desativados nestes estados.\n",
    "\n",
    "Parte dos dados está relacionada ao controlo dos processos circadianos, com a coleta de animais em quatro pontos de tempo (0, 2, 4 e 6 horas) desde o início do período de descanso consolidado (*Zeitgeber Time* - ZT 14), sob duas condições: privação de sono e sono espontâneo. O ponto de tempo \"0\" refere-se ao controlo do período de sono.\n"
   ]
  },
  {
   "cell_type": "code",
   "execution_count": 62,
   "id": "b59cee97",
   "metadata": {},
   "outputs": [],
   "source": [
    "import pandas as pd\n",
    "from sklearn import preprocessing\n",
    "from sklearn.decomposition import PCA\n",
    "import matplotlib.pyplot as plt\n",
    "import numpy as np\n",
    "from sklearn.neighbors import KNeighborsClassifier\n",
    "from scipy.cluster.hierarchy import dendrogram, linkage\n",
    "from sklearn.feature_selection import VarianceThreshold, SelectPercentile, f_classif"
   ]
  },
  {
   "cell_type": "markdown",
   "id": "78f518c3",
   "metadata": {},
   "source": [
    "## 1ª Etapa "
   ]
  },
  {
   "cell_type": "markdown",
   "metadata": {},
   "source": [
    "Os dados presentes no conjunto de dados consistem em 14.010 linhas e 30 atributos/colunas. Por outro lado, os metadados compreendem 30 linhas e 4 atributos. Para assegurar a congruência entre os dados e os metadados, foi realizada a transposição dos dados.\n",
    "\n",
    "As 30 instâncias referem-se às 30 moscas que foram submetidas às medições dos níveis de expressão dos genes em ambientes diversos. Notavelmente, os 14.010 atributos representam os genes que foram objeto de estudo."
   ]
  },
  {
   "cell_type": "markdown",
   "metadata": {},
   "source": [
    "### 1.1 Carregamento dos dados e metadados dos datasets"
   ]
  },
  {
   "cell_type": "code",
   "execution_count": 63,
   "id": "e053a0aa",
   "metadata": {},
   "outputs": [],
   "source": [
    "# Upload dos dados e metadados\n",
    "dados = pd.read_csv(\"gds1686.csv\", sep=',', index_col = 0)\n",
    "metaDados = pd.read_csv(\"meta-gds1686.csv\", sep = \",\", index_col = 0)"
   ]
  },
  {
   "cell_type": "code",
   "execution_count": 64,
   "id": "3428e9ce",
   "metadata": {},
   "outputs": [
    {
     "name": "stdout",
     "output_type": "stream",
     "text": [
      "          141200_at  141201_at  141202_at  141203_at  141204_at  141205_at  \\\n",
      "GSM95424    3.77628    5.64283    6.80354    5.42622    4.58124    5.94997   \n",
      "GSM95425    3.44458    5.47795    7.01271    5.53965    4.55277    5.94535   \n",
      "GSM95444    3.76067    5.53370    6.81637    5.38007    4.45829    5.97233   \n",
      "GSM95324    3.38473    5.58603    6.66803    5.26991    4.45801    5.62635   \n",
      "GSM95421    3.57696    5.60629    6.73312    5.18558    4.56932    5.79158   \n",
      "GSM95423    3.71310    5.57885    6.96012    5.36280    4.45476    5.75519   \n",
      "GSM95325    3.59374    5.60380    6.55975    5.06871    4.47072    5.63485   \n",
      "GSM95420    3.68243    5.40856    6.91156    5.31143    4.60259    5.84344   \n",
      "GSM95422    3.71822    5.53217    6.53144    5.24742    4.68283    5.89039   \n",
      "GSM95290    3.95261    5.55998    7.19880    5.51060    4.74907    6.27263   \n",
      "GSM95292    3.67817    5.37299    7.10604    5.55732    4.73757    6.38052   \n",
      "GSM95293    3.57283    5.60045    6.99170    4.92440    4.60691    5.85537   \n",
      "GSM95262    3.59273    5.54066    7.20713    5.34438    4.75126    6.07541   \n",
      "GSM95263    3.70173    5.54693    6.88922    5.31099    4.63275    5.99084   \n",
      "GSM95291    3.84251    5.53791    7.13280    5.25818    4.61199    6.05975   \n",
      "GSM95112    3.56832    5.35057    6.81038    5.30885    4.38889    5.99645   \n",
      "GSM95114    3.47294    5.36798    6.59039    5.00733    4.42526    5.70484   \n",
      "GSM95242    3.61899    5.45633    7.10774    5.29198    4.60187    6.22243   \n",
      "GSM95237    3.65057    5.42917    7.15448    5.57140    4.79595    6.35720   \n",
      "GSM95239    3.49014    5.36852    7.02300    5.29710    4.71561    5.99588   \n",
      "GSM95256    3.48292    5.48704    6.99686    5.46427    4.60023    6.19795   \n",
      "GSM95236    3.47337    5.50797    6.84621    5.18254    4.60738    5.80494   \n",
      "GSM95259    3.33723    5.60756    7.16120    4.89952    4.66237    6.08442   \n",
      "GSM95295    3.71650    5.45302    7.21648    5.26514    4.50229    5.93710   \n",
      "GSM95194    3.59834    5.43918    6.88146    5.24436    4.50161    5.81833   \n",
      "GSM95296    3.61366    5.46530    7.23107    5.30005    4.61582    6.20205   \n",
      "GSM95323    3.51833    5.39093    7.14023    5.25522    4.75641    6.02565   \n",
      "GSM95260    3.49258    5.31444    6.99964    5.18857    4.67276    5.77513   \n",
      "GSM95261    3.59201    5.38658    6.99194    4.87618    4.70003    5.91450   \n",
      "GSM95294    3.61900    5.52682    6.89965    4.64422    4.51917    5.54886   \n",
      "\n",
      "          141206_at  141207_at  141208_at  141209_at  ...  AFFX-ThrX-3_at  \\\n",
      "GSM95424    7.10323    4.31335    5.25411    7.65238  ...         7.55184   \n",
      "GSM95425    6.90955    4.38611    5.27720    7.51818  ...         6.78527   \n",
      "GSM95444    6.94380    4.20917    5.36327    7.63492  ...         8.20187   \n",
      "GSM95324    6.82933    4.20606    5.32454    7.45160  ...         6.30469   \n",
      "GSM95421    6.97706    4.22661    5.40733    7.53137  ...         6.77700   \n",
      "GSM95423    7.00155    4.15154    5.37987    7.59254  ...         6.66053   \n",
      "GSM95325    6.84405    3.94747    5.19602    7.37731  ...         6.83628   \n",
      "GSM95420    6.88599    4.36661    5.41965    7.42033  ...         6.76439   \n",
      "GSM95422    7.08814    4.02184    5.31896    7.54474  ...         6.99822   \n",
      "GSM95290    7.26723    4.47476    5.54710    7.73129  ...         3.83702   \n",
      "GSM95292    7.30107    4.85886    5.67052    7.42149  ...         3.75049   \n",
      "GSM95293    7.04612    4.44182    5.15460    7.57755  ...         4.18807   \n",
      "GSM95262    7.12128    4.64402    5.58334    7.53948  ...         3.96581   \n",
      "GSM95263    6.91636    4.41563    5.39835    7.42456  ...         4.19686   \n",
      "GSM95291    7.19411    4.84036    5.84041    7.47577  ...         4.03202   \n",
      "GSM95112    6.92828    4.47072    5.40031    7.33966  ...         4.13886   \n",
      "GSM95114    6.77359    4.43998    5.17224    7.40192  ...         4.20482   \n",
      "GSM95242    7.05528    4.62824    5.44395    7.41678  ...         3.88820   \n",
      "GSM95237    6.99981    4.60173    5.83647    7.50339  ...         4.00188   \n",
      "GSM95239    6.93164    4.46610    5.45592    7.45956  ...         4.17794   \n",
      "GSM95256    7.01813    4.65171    5.54313    7.37638  ...         4.01036   \n",
      "GSM95236    6.85509    4.33647    5.02159    7.12219  ...         4.23856   \n",
      "GSM95259    6.90477    3.66241    5.48508    7.30661  ...         4.22907   \n",
      "GSM95295    7.07699    4.50527    5.52880    7.32624  ...         4.04266   \n",
      "GSM95194    6.90999    4.48618    5.38018    7.30555  ...         4.02345   \n",
      "GSM95296    7.07053    4.55939    5.47177    7.51354  ...         3.96276   \n",
      "GSM95323    6.98945    4.47822    5.55008    7.36444  ...         4.07560   \n",
      "GSM95260    6.98939    4.18343    5.12877    7.37153  ...         4.14432   \n",
      "GSM95261    6.90513    4.46629    5.47299    7.31211  ...         4.08759   \n",
      "GSM95294    6.86361    4.33264    5.13968    7.16980  ...         4.26890   \n",
      "\n",
      "          AFFX-ThrX-5_at  AFFX-ThrX-M_at  AFFX-TrpnX-3_at  AFFX-TrpnX-5_at  \\\n",
      "GSM95424         5.43532         5.67326          2.36744          2.66457   \n",
      "GSM95425         5.05907         4.92737          2.27453          2.46741   \n",
      "GSM95444         5.83632         6.67257          2.40788          2.61438   \n",
      "GSM95324         5.02071         4.60969          2.33026          2.64872   \n",
      "GSM95421         4.85726         5.04870          2.35221          2.73892   \n",
      "GSM95423         4.78067         4.85828          2.47444          2.71069   \n",
      "GSM95325         4.96311         5.19890          2.68569          2.81651   \n",
      "GSM95420         4.74533         5.06816          2.58346          2.72166   \n",
      "GSM95422         4.98203         5.03550          2.59126          2.84020   \n",
      "GSM95290         3.81792         2.73457          2.35884          2.57256   \n",
      "GSM95292         3.63657         2.80322          2.24774          2.64016   \n",
      "GSM95293         3.92631         2.86763          2.33716          2.62173   \n",
      "GSM95262         3.60723         2.79411          2.26433          2.67909   \n",
      "GSM95263         4.02479         3.06715          2.49967          2.65318   \n",
      "GSM95291         3.60691         2.78999          2.39437          2.67136   \n",
      "GSM95112         3.81244         2.77903          2.30384          2.71275   \n",
      "GSM95114         3.92395         3.03068          2.35722          2.74292   \n",
      "GSM95242         3.70795         2.62421          2.31259          2.76930   \n",
      "GSM95237         3.49677         2.85580          2.29418          2.59401   \n",
      "GSM95239         3.95889         2.83375          2.30569          2.82764   \n",
      "GSM95256         3.80056         2.73168          2.30137          2.53118   \n",
      "GSM95236         3.84479         2.98200          2.49131          2.79782   \n",
      "GSM95259         4.03283         2.94817          2.53572          2.73546   \n",
      "GSM95295         3.77213         2.79455          2.32138          2.67646   \n",
      "GSM95194         3.71468         2.94792          2.28795          2.69254   \n",
      "GSM95296         3.71634         2.77236          2.31900          2.56384   \n",
      "GSM95323         3.75941         2.84159          2.40562          2.65472   \n",
      "GSM95260         3.56233         2.92607          2.48418          2.74072   \n",
      "GSM95261         3.95950         2.99479          2.39684          2.72137   \n",
      "GSM95294         3.98361         2.95161          2.27635          2.67149   \n",
      "\n",
      "          AFFX-TrpnX-M_at  AFFX-YEL002c/WBP1_at  AFFX-YEL018w/_at  \\\n",
      "GSM95424          2.72344               2.89604           2.34574   \n",
      "GSM95425          2.77508               2.68409           2.46161   \n",
      "GSM95444          2.65315               2.74543           2.42794   \n",
      "GSM95324          2.68254               2.56479           2.40380   \n",
      "GSM95421          2.73579               2.59447           2.38402   \n",
      "GSM95423          2.92240               2.57816           2.58365   \n",
      "GSM95325          2.69964               2.77758           2.42352   \n",
      "GSM95420          2.85899               2.70990           2.67445   \n",
      "GSM95422          2.94747               2.63822           2.57970   \n",
      "GSM95290          2.69707               2.63608           2.35930   \n",
      "GSM95292          2.71181               2.44105           2.34352   \n",
      "GSM95293          2.78936               2.50171           2.39130   \n",
      "GSM95262          2.78604               2.52477           2.36540   \n",
      "GSM95263          2.89197               2.64141           2.41052   \n",
      "GSM95291          2.70137               2.53060           2.44858   \n",
      "GSM95112          2.93196               2.74293           2.43629   \n",
      "GSM95114          2.79531               2.62824           2.59568   \n",
      "GSM95242          2.80309               2.44776           2.37761   \n",
      "GSM95237          2.80751               2.47106           2.50044   \n",
      "GSM95239          2.93165               2.64033           2.43149   \n",
      "GSM95256          2.84597               2.51781           2.43945   \n",
      "GSM95236          3.04323               2.68081           2.73031   \n",
      "GSM95259          2.81115               2.66831           2.55499   \n",
      "GSM95295          2.81911               2.59707           2.50369   \n",
      "GSM95194          2.83479               2.65906           2.54094   \n",
      "GSM95296          2.78406               2.60932           2.45865   \n",
      "GSM95323          2.77331               2.72341           2.45135   \n",
      "GSM95260          2.95209               2.57746           2.39673   \n",
      "GSM95261          2.77462               2.61664           2.61730   \n",
      "GSM95294          2.77627               2.50205           2.33452   \n",
      "\n",
      "          AFFX-YEL021w/URA3_at  AFFX-YEL024w/RIP1_at  \n",
      "GSM95424               2.46772               2.87624  \n",
      "GSM95425               2.40230               2.88107  \n",
      "GSM95444               2.37488               2.93086  \n",
      "GSM95324               2.37482               2.81991  \n",
      "GSM95421               2.45214               2.85487  \n",
      "GSM95423               2.51899               2.98672  \n",
      "GSM95325               2.44716               2.85868  \n",
      "GSM95420               2.31072               2.91087  \n",
      "GSM95422               2.61828               2.98960  \n",
      "GSM95290               2.22649               2.75311  \n",
      "GSM95292               2.22601               2.69280  \n",
      "GSM95293               2.38763               2.87921  \n",
      "GSM95262               2.38764               2.87349  \n",
      "GSM95263               2.32110               2.85350  \n",
      "GSM95291               2.38664               2.81001  \n",
      "GSM95112               2.38523               2.87180  \n",
      "GSM95114               2.47838               3.04000  \n",
      "GSM95242               2.37690               2.84318  \n",
      "GSM95237               2.30044               2.74648  \n",
      "GSM95239               2.52944               2.83849  \n",
      "GSM95256               2.32745               2.72469  \n",
      "GSM95236               2.44649               3.02880  \n",
      "GSM95259               2.43784               2.92478  \n",
      "GSM95295               2.42960               2.78004  \n",
      "GSM95194               2.32200               2.86386  \n",
      "GSM95296               2.26008               2.78003  \n",
      "GSM95323               2.37731               2.78019  \n",
      "GSM95260               2.38820               3.03251  \n",
      "GSM95261               2.41316               2.90677  \n",
      "GSM95294               2.40617               2.90080  \n",
      "\n",
      "[30 rows x 14010 columns]\n"
     ]
    }
   ],
   "source": [
    "data = dados.transpose()\n",
    "print(data)"
   ]
  },
  {
   "cell_type": "markdown",
   "metadata": {},
   "source": [
    "### 1.2 Caracterização dos dados "
   ]
  },
  {
   "cell_type": "code",
   "execution_count": 65,
   "id": "9a7a1068",
   "metadata": {},
   "outputs": [
    {
     "name": "stdout",
     "output_type": "stream",
     "text": [
      "Dados:  (14010, 30)\n",
      "Metadados:  (30, 4)\n"
     ]
    }
   ],
   "source": [
    "# Contagem do número de atributos e instâncias dos dados e metadados\n",
    "print('Dados: ', dados.values.shape)\n",
    "print('Metadados: ', metaDados.values.shape)"
   ]
  },
  {
   "cell_type": "markdown",
   "id": "bd44e8d9",
   "metadata": {},
   "source": [
    "Os dados são do tipo *float64*, ao passo que os metadados apresentam-se como *object*."
   ]
  },
  {
   "cell_type": "code",
   "execution_count": 66,
   "id": "d22a59a5",
   "metadata": {},
   "outputs": [
    {
     "name": "stdout",
     "output_type": "stream",
     "text": [
      "Os dados são do tipo:\n",
      "141200_at               float64\n",
      "141201_at               float64\n",
      "141202_at               float64\n",
      "141203_at               float64\n",
      "141204_at               float64\n",
      "                         ...   \n",
      "AFFX-TrpnX-M_at         float64\n",
      "AFFX-YEL002c/WBP1_at    float64\n",
      "AFFX-YEL018w/_at        float64\n",
      "AFFX-YEL021w/URA3_at    float64\n",
      "AFFX-YEL024w/RIP1_at    float64\n",
      "Length: 14010, dtype: object\n"
     ]
    }
   ],
   "source": [
    "# Descrição dos tipos de atributos de dados\n",
    "print(\"Os dados são do tipo:\")\n",
    "print(data.dtypes)"
   ]
  },
  {
   "cell_type": "code",
   "execution_count": 67,
   "id": "eb5c42aa",
   "metadata": {},
   "outputs": [
    {
     "name": "stdout",
     "output_type": "stream",
     "text": [
      "Os metadados são do tipo:\n",
      "sample         object\n",
      "protocol       object\n",
      "time           object\n",
      "description    object\n",
      "dtype: object\n"
     ]
    }
   ],
   "source": [
    "# Descrição dos tipos de atributos dos metadados\n",
    "print(\"Os metadados são do tipo:\")\n",
    "print(metaDados.dtypes)"
   ]
  },
  {
   "cell_type": "markdown",
   "metadata": {},
   "source": [
    "Este estudo proporcionou *insights* sobre os processos moleculares dinâmicos que sofrem alterações durante a vigília e o sono. Para alcançar tal objetivo, realizou-se um perfil de expressão de RNA, examinando as mudanças temporais no cérebro de *D. Melanogaster* em relação à duração prévia de sono ou vigília. O design experimental permitiu determinar se os genes identificados como regulados diferencialmente entre sono e vigília estavam ativos ou inativos nestes estados.\n",
    "\n",
    "Uma parcela dos dados está associada ao controlo dos processos circadianos, com a recolha de amostras em quatro momentos temporais (0, 2, 4 e 6 horas) a partir do início do período de repouso consolidado [*Zeitgeber Time* (ZT) 14)], sob duas condições: **privação de sono** e **sono espontâneo**. O ponto \"0\" reflete o controlo do período de sono.\n",
    "\n",
    "Os restantes dados foram gerados para monitorizar os efeitos da estimulação das moscas durante a privação de sono, concentrando-se na estimulação manual das moscas durante o **período ativo de ZT10-ZT14**. Neste conjunto de dados, foram analisadas moscas no ponto \"0\"/ZT10 (controlo) e após 4 horas/ZT14, tanto para moscas perturbadas como não perturbadas.\n",
    "\n",
    "Cada atributo nos dados representa um gene em estudo, e cada instância corresponde a uma amostra. Dessa forma, cada linha contém os valores de expressão de 14.010 genes, sendo cada célula representada por um dado do tipo *float64*.\n",
    "\n",
    "No que diz respeito aos metadados, os atributos englobam a amostra, o ambiente a que foi sujeita, o período de exposição ao ambiente e uma descrição de cada instância. Estes atributos são do tipo *object*. Dos quatro atributos nos metadados (**\"sample\"**, **\"protocol\"**, **\"time\"**, **\"description\"**), apenas **\"protocol\"** incorpora informações pertinentes para a análise dos dados e a construção de modelos de *machine learning*."
   ]
  },
  {
   "cell_type": "markdown",
   "metadata": {},
   "source": [
    "### 1.3 Análise dos dados e metadados dos datasets"
   ]
  },
  {
   "cell_type": "code",
   "execution_count": 68,
   "metadata": {},
   "outputs": [
    {
     "data": {
      "text/html": [
       "<div>\n",
       "<style scoped>\n",
       "    .dataframe tbody tr th:only-of-type {\n",
       "        vertical-align: middle;\n",
       "    }\n",
       "\n",
       "    .dataframe tbody tr th {\n",
       "        vertical-align: top;\n",
       "    }\n",
       "\n",
       "    .dataframe thead th {\n",
       "        text-align: right;\n",
       "    }\n",
       "</style>\n",
       "<table border=\"1\" class=\"dataframe\">\n",
       "  <thead>\n",
       "    <tr style=\"text-align: right;\">\n",
       "      <th></th>\n",
       "      <th>141200_at</th>\n",
       "      <th>141201_at</th>\n",
       "      <th>141202_at</th>\n",
       "      <th>141203_at</th>\n",
       "      <th>141204_at</th>\n",
       "      <th>141205_at</th>\n",
       "      <th>141206_at</th>\n",
       "      <th>141207_at</th>\n",
       "      <th>141208_at</th>\n",
       "      <th>141209_at</th>\n",
       "      <th>...</th>\n",
       "      <th>AFFX-ThrX-3_at</th>\n",
       "      <th>AFFX-ThrX-5_at</th>\n",
       "      <th>AFFX-ThrX-M_at</th>\n",
       "      <th>AFFX-TrpnX-3_at</th>\n",
       "      <th>AFFX-TrpnX-5_at</th>\n",
       "      <th>AFFX-TrpnX-M_at</th>\n",
       "      <th>AFFX-YEL002c/WBP1_at</th>\n",
       "      <th>AFFX-YEL018w/_at</th>\n",
       "      <th>AFFX-YEL021w/URA3_at</th>\n",
       "      <th>AFFX-YEL024w/RIP1_at</th>\n",
       "    </tr>\n",
       "  </thead>\n",
       "  <tbody>\n",
       "    <tr>\n",
       "      <th>count</th>\n",
       "      <td>30.000000</td>\n",
       "      <td>30.000000</td>\n",
       "      <td>30.000000</td>\n",
       "      <td>30.000000</td>\n",
       "      <td>30.000000</td>\n",
       "      <td>30.000000</td>\n",
       "      <td>30.000000</td>\n",
       "      <td>30.000000</td>\n",
       "      <td>30.000000</td>\n",
       "      <td>30.000000</td>\n",
       "      <td>...</td>\n",
       "      <td>30.000000</td>\n",
       "      <td>30.000000</td>\n",
       "      <td>30.000000</td>\n",
       "      <td>30.000000</td>\n",
       "      <td>30.000000</td>\n",
       "      <td>30.000000</td>\n",
       "      <td>30.000000</td>\n",
       "      <td>30.000000</td>\n",
       "      <td>30.000000</td>\n",
       "      <td>30.000000</td>\n",
       "    </tr>\n",
       "    <tr>\n",
       "      <th>mean</th>\n",
       "      <td>3.607873</td>\n",
       "      <td>5.489350</td>\n",
       "      <td>6.952435</td>\n",
       "      <td>5.249813</td>\n",
       "      <td>4.599524</td>\n",
       "      <td>5.954323</td>\n",
       "      <td>6.990018</td>\n",
       "      <td>4.392433</td>\n",
       "      <td>5.405541</td>\n",
       "      <td>7.439440</td>\n",
       "      <td>...</td>\n",
       "      <td>4.944844</td>\n",
       "      <td>4.178191</td>\n",
       "      <td>3.572110</td>\n",
       "      <td>2.385417</td>\n",
       "      <td>2.683112</td>\n",
       "      <td>2.808675</td>\n",
       "      <td>2.618219</td>\n",
       "      <td>2.465750</td>\n",
       "      <td>2.392707</td>\n",
       "      <td>2.867779</td>\n",
       "    </tr>\n",
       "    <tr>\n",
       "      <th>std</th>\n",
       "      <td>0.134341</td>\n",
       "      <td>0.091277</td>\n",
       "      <td>0.200513</td>\n",
       "      <td>0.213595</td>\n",
       "      <td>0.109908</td>\n",
       "      <td>0.211262</td>\n",
       "      <td>0.125764</td>\n",
       "      <td>0.250060</td>\n",
       "      <td>0.193319</td>\n",
       "      <td>0.134838</td>\n",
       "      <td>...</td>\n",
       "      <td>1.395989</td>\n",
       "      <td>0.638595</td>\n",
       "      <td>1.155027</td>\n",
       "      <td>0.110678</td>\n",
       "      <td>0.086954</td>\n",
       "      <td>0.093582</td>\n",
       "      <td>0.103548</td>\n",
       "      <td>0.102161</td>\n",
       "      <td>0.086281</td>\n",
       "      <td>0.089716</td>\n",
       "    </tr>\n",
       "    <tr>\n",
       "      <th>min</th>\n",
       "      <td>3.337230</td>\n",
       "      <td>5.314440</td>\n",
       "      <td>6.531440</td>\n",
       "      <td>4.644220</td>\n",
       "      <td>4.388890</td>\n",
       "      <td>5.548860</td>\n",
       "      <td>6.773590</td>\n",
       "      <td>3.662410</td>\n",
       "      <td>5.021590</td>\n",
       "      <td>7.122190</td>\n",
       "      <td>...</td>\n",
       "      <td>3.750490</td>\n",
       "      <td>3.496770</td>\n",
       "      <td>2.624210</td>\n",
       "      <td>2.247740</td>\n",
       "      <td>2.467410</td>\n",
       "      <td>2.653150</td>\n",
       "      <td>2.441050</td>\n",
       "      <td>2.334520</td>\n",
       "      <td>2.226010</td>\n",
       "      <td>2.692800</td>\n",
       "    </tr>\n",
       "    <tr>\n",
       "      <th>25%</th>\n",
       "      <td>3.499017</td>\n",
       "      <td>5.413712</td>\n",
       "      <td>6.823830</td>\n",
       "      <td>5.186327</td>\n",
       "      <td>4.506510</td>\n",
       "      <td>5.808288</td>\n",
       "      <td>6.906235</td>\n",
       "      <td>4.248295</td>\n",
       "      <td>5.287640</td>\n",
       "      <td>7.366212</td>\n",
       "      <td>...</td>\n",
       "      <td>4.025593</td>\n",
       "      <td>3.727108</td>\n",
       "      <td>2.796718</td>\n",
       "      <td>2.304302</td>\n",
       "      <td>2.642300</td>\n",
       "      <td>2.745170</td>\n",
       "      <td>2.539148</td>\n",
       "      <td>2.392658</td>\n",
       "      <td>2.339292</td>\n",
       "      <td>2.812485</td>\n",
       "    </tr>\n",
       "    <tr>\n",
       "      <th>50%</th>\n",
       "      <td>3.596040</td>\n",
       "      <td>5.497505</td>\n",
       "      <td>6.991820</td>\n",
       "      <td>5.280945</td>\n",
       "      <td>4.604750</td>\n",
       "      <td>5.947660</td>\n",
       "      <td>6.983225</td>\n",
       "      <td>4.440900</td>\n",
       "      <td>5.403820</td>\n",
       "      <td>7.423025</td>\n",
       "      <td>...</td>\n",
       "      <td>4.183005</td>\n",
       "      <td>3.925130</td>\n",
       "      <td>2.948045</td>\n",
       "      <td>2.354715</td>\n",
       "      <td>2.677775</td>\n",
       "      <td>2.792335</td>\n",
       "      <td>2.622440</td>\n",
       "      <td>2.437870</td>\n",
       "      <td>2.387635</td>\n",
       "      <td>2.867830</td>\n",
       "    </tr>\n",
       "    <tr>\n",
       "      <th>75%</th>\n",
       "      <td>3.696905</td>\n",
       "      <td>5.556718</td>\n",
       "      <td>7.126535</td>\n",
       "      <td>5.358195</td>\n",
       "      <td>4.680313</td>\n",
       "      <td>6.071495</td>\n",
       "      <td>7.066717</td>\n",
       "      <td>4.500497</td>\n",
       "      <td>5.517870</td>\n",
       "      <td>7.528073</td>\n",
       "      <td>...</td>\n",
       "      <td>6.571570</td>\n",
       "      <td>4.771835</td>\n",
       "      <td>4.796132</td>\n",
       "      <td>2.457800</td>\n",
       "      <td>2.738055</td>\n",
       "      <td>2.855735</td>\n",
       "      <td>2.677685</td>\n",
       "      <td>2.531627</td>\n",
       "      <td>2.444327</td>\n",
       "      <td>2.909845</td>\n",
       "    </tr>\n",
       "    <tr>\n",
       "      <th>max</th>\n",
       "      <td>3.952610</td>\n",
       "      <td>5.642830</td>\n",
       "      <td>7.231070</td>\n",
       "      <td>5.571400</td>\n",
       "      <td>4.795950</td>\n",
       "      <td>6.380520</td>\n",
       "      <td>7.301070</td>\n",
       "      <td>4.858860</td>\n",
       "      <td>5.840410</td>\n",
       "      <td>7.731290</td>\n",
       "      <td>...</td>\n",
       "      <td>8.201870</td>\n",
       "      <td>5.836320</td>\n",
       "      <td>6.672570</td>\n",
       "      <td>2.685690</td>\n",
       "      <td>2.840200</td>\n",
       "      <td>3.043230</td>\n",
       "      <td>2.896040</td>\n",
       "      <td>2.730310</td>\n",
       "      <td>2.618280</td>\n",
       "      <td>3.040000</td>\n",
       "    </tr>\n",
       "  </tbody>\n",
       "</table>\n",
       "<p>8 rows × 14010 columns</p>\n",
       "</div>"
      ],
      "text/plain": [
       "       141200_at  141201_at  141202_at  141203_at  141204_at  141205_at  \\\n",
       "count  30.000000  30.000000  30.000000  30.000000  30.000000  30.000000   \n",
       "mean    3.607873   5.489350   6.952435   5.249813   4.599524   5.954323   \n",
       "std     0.134341   0.091277   0.200513   0.213595   0.109908   0.211262   \n",
       "min     3.337230   5.314440   6.531440   4.644220   4.388890   5.548860   \n",
       "25%     3.499017   5.413712   6.823830   5.186327   4.506510   5.808288   \n",
       "50%     3.596040   5.497505   6.991820   5.280945   4.604750   5.947660   \n",
       "75%     3.696905   5.556718   7.126535   5.358195   4.680313   6.071495   \n",
       "max     3.952610   5.642830   7.231070   5.571400   4.795950   6.380520   \n",
       "\n",
       "       141206_at  141207_at  141208_at  141209_at  ...  AFFX-ThrX-3_at  \\\n",
       "count  30.000000  30.000000  30.000000  30.000000  ...       30.000000   \n",
       "mean    6.990018   4.392433   5.405541   7.439440  ...        4.944844   \n",
       "std     0.125764   0.250060   0.193319   0.134838  ...        1.395989   \n",
       "min     6.773590   3.662410   5.021590   7.122190  ...        3.750490   \n",
       "25%     6.906235   4.248295   5.287640   7.366212  ...        4.025593   \n",
       "50%     6.983225   4.440900   5.403820   7.423025  ...        4.183005   \n",
       "75%     7.066717   4.500497   5.517870   7.528073  ...        6.571570   \n",
       "max     7.301070   4.858860   5.840410   7.731290  ...        8.201870   \n",
       "\n",
       "       AFFX-ThrX-5_at  AFFX-ThrX-M_at  AFFX-TrpnX-3_at  AFFX-TrpnX-5_at  \\\n",
       "count       30.000000       30.000000        30.000000        30.000000   \n",
       "mean         4.178191        3.572110         2.385417         2.683112   \n",
       "std          0.638595        1.155027         0.110678         0.086954   \n",
       "min          3.496770        2.624210         2.247740         2.467410   \n",
       "25%          3.727108        2.796718         2.304302         2.642300   \n",
       "50%          3.925130        2.948045         2.354715         2.677775   \n",
       "75%          4.771835        4.796132         2.457800         2.738055   \n",
       "max          5.836320        6.672570         2.685690         2.840200   \n",
       "\n",
       "       AFFX-TrpnX-M_at  AFFX-YEL002c/WBP1_at  AFFX-YEL018w/_at  \\\n",
       "count        30.000000             30.000000         30.000000   \n",
       "mean          2.808675              2.618219          2.465750   \n",
       "std           0.093582              0.103548          0.102161   \n",
       "min           2.653150              2.441050          2.334520   \n",
       "25%           2.745170              2.539148          2.392658   \n",
       "50%           2.792335              2.622440          2.437870   \n",
       "75%           2.855735              2.677685          2.531627   \n",
       "max           3.043230              2.896040          2.730310   \n",
       "\n",
       "       AFFX-YEL021w/URA3_at  AFFX-YEL024w/RIP1_at  \n",
       "count             30.000000             30.000000  \n",
       "mean               2.392707              2.867779  \n",
       "std                0.086281              0.089716  \n",
       "min                2.226010              2.692800  \n",
       "25%                2.339292              2.812485  \n",
       "50%                2.387635              2.867830  \n",
       "75%                2.444327              2.909845  \n",
       "max                2.618280              3.040000  \n",
       "\n",
       "[8 rows x 14010 columns]"
      ]
     },
     "execution_count": 68,
     "metadata": {},
     "output_type": "execute_result"
    }
   ],
   "source": [
    "# análise dos dados\n",
    "data.describe()"
   ]
  },
  {
   "cell_type": "markdown",
   "metadata": {},
   "source": [
    "\n",
    "Como evidenciado pelo *count*, constatamos a presença de 30 instâncias, indicando a ausência de *missing values*. Entretanto, procederemos à confirmação."
   ]
  },
  {
   "cell_type": "code",
   "execution_count": 69,
   "id": "637fe837",
   "metadata": {},
   "outputs": [
    {
     "name": "stdout",
     "output_type": "stream",
     "text": [
      "Missing Values nos dados:\n",
      "0\n",
      "Missing Values nos metadados:\n",
      "0\n"
     ]
    }
   ],
   "source": [
    "# Missing Values - verifica valores em falta\n",
    "print(\"Missing Values nos dados:\")\n",
    "print(data.isnull().sum().sum())   \n",
    "\n",
    "# O primeiro .sum soma ao longo das colunas e o segundo .sum adiciona todas as contagens.\n",
    "\n",
    "print(\"Missing Values nos metadados:\")\n",
    "print(metaDados.isnull().sum().sum())"
   ]
  },
  {
   "cell_type": "markdown",
   "metadata": {},
   "source": [
    "Após verificar a inexistência de valores ausentes (*missing values*), é imperativo confirmar a inexistência de valores NaN, isto é, nulos. Em caso de deteção, é recomendável proceder à sua eliminação."
   ]
  },
  {
   "cell_type": "code",
   "execution_count": 70,
   "id": "e0ee9fef",
   "metadata": {},
   "outputs": [],
   "source": [
    "# Remover os genes que têm todos os valores como NaN (dados nulos), usando o parâmetro inplace = True para alterar directamente na variável data\n",
    "data.dropna(inplace = True)"
   ]
  },
  {
   "cell_type": "markdown",
   "metadata": {},
   "source": [
    "Podemos corroborar que não ocorreu eliminação de dados, visto que as dimensões do conjunto de dados permanecem inalteradas."
   ]
  },
  {
   "cell_type": "code",
   "execution_count": 71,
   "id": "59075335",
   "metadata": {
    "scrolled": true
   },
   "outputs": [
    {
     "data": {
      "text/plain": [
       "(30, 14010)"
      ]
     },
     "execution_count": 71,
     "metadata": {},
     "output_type": "execute_result"
    }
   ],
   "source": [
    "# Ver a nova dimensão dos dados\n",
    "data.values.shape "
   ]
  },
  {
   "cell_type": "code",
   "execution_count": 72,
   "id": "6ab8e07a",
   "metadata": {},
   "outputs": [
    {
     "data": {
      "text/html": [
       "<div>\n",
       "<style scoped>\n",
       "    .dataframe tbody tr th:only-of-type {\n",
       "        vertical-align: middle;\n",
       "    }\n",
       "\n",
       "    .dataframe tbody tr th {\n",
       "        vertical-align: top;\n",
       "    }\n",
       "\n",
       "    .dataframe thead th {\n",
       "        text-align: right;\n",
       "    }\n",
       "</style>\n",
       "<table border=\"1\" class=\"dataframe\">\n",
       "  <thead>\n",
       "    <tr style=\"text-align: right;\">\n",
       "      <th></th>\n",
       "      <th>min</th>\n",
       "      <th>max</th>\n",
       "      <th>std</th>\n",
       "    </tr>\n",
       "  </thead>\n",
       "  <tbody>\n",
       "    <tr>\n",
       "      <th>AFFX-DapX-3_at</th>\n",
       "      <td>2.67399</td>\n",
       "      <td>9.13717</td>\n",
       "      <td>2.331775</td>\n",
       "    </tr>\n",
       "    <tr>\n",
       "      <th>AFFX-DapX-M_at</th>\n",
       "      <td>2.57384</td>\n",
       "      <td>8.60097</td>\n",
       "      <td>2.127964</td>\n",
       "    </tr>\n",
       "    <tr>\n",
       "      <th>AFFX-DapX-5_at</th>\n",
       "      <td>2.59945</td>\n",
       "      <td>7.75179</td>\n",
       "      <td>1.726795</td>\n",
       "    </tr>\n",
       "    <tr>\n",
       "      <th>143096_f_at</th>\n",
       "      <td>3.86214</td>\n",
       "      <td>9.04036</td>\n",
       "      <td>1.529624</td>\n",
       "    </tr>\n",
       "    <tr>\n",
       "      <th>AFFX-ThrX-3_at</th>\n",
       "      <td>3.75049</td>\n",
       "      <td>8.20187</td>\n",
       "      <td>1.395989</td>\n",
       "    </tr>\n",
       "    <tr>\n",
       "      <th>...</th>\n",
       "      <td>...</td>\n",
       "      <td>...</td>\n",
       "      <td>...</td>\n",
       "    </tr>\n",
       "    <tr>\n",
       "      <th>153140_at</th>\n",
       "      <td>5.71645</td>\n",
       "      <td>5.99938</td>\n",
       "      <td>0.059461</td>\n",
       "    </tr>\n",
       "    <tr>\n",
       "      <th>141690_at</th>\n",
       "      <td>6.89647</td>\n",
       "      <td>7.16224</td>\n",
       "      <td>0.058273</td>\n",
       "    </tr>\n",
       "    <tr>\n",
       "      <th>153642_at</th>\n",
       "      <td>6.20163</td>\n",
       "      <td>6.41713</td>\n",
       "      <td>0.049048</td>\n",
       "    </tr>\n",
       "    <tr>\n",
       "      <th>153151_at</th>\n",
       "      <td>4.39932</td>\n",
       "      <td>4.59023</td>\n",
       "      <td>0.048230</td>\n",
       "    </tr>\n",
       "    <tr>\n",
       "      <th>144344_f_at</th>\n",
       "      <td>4.27787</td>\n",
       "      <td>4.46235</td>\n",
       "      <td>0.047771</td>\n",
       "    </tr>\n",
       "  </tbody>\n",
       "</table>\n",
       "<p>14010 rows × 3 columns</p>\n",
       "</div>"
      ],
      "text/plain": [
       "                    min      max       std\n",
       "AFFX-DapX-3_at  2.67399  9.13717  2.331775\n",
       "AFFX-DapX-M_at  2.57384  8.60097  2.127964\n",
       "AFFX-DapX-5_at  2.59945  7.75179  1.726795\n",
       "143096_f_at     3.86214  9.04036  1.529624\n",
       "AFFX-ThrX-3_at  3.75049  8.20187  1.395989\n",
       "...                 ...      ...       ...\n",
       "153140_at       5.71645  5.99938  0.059461\n",
       "141690_at       6.89647  7.16224  0.058273\n",
       "153642_at       6.20163  6.41713  0.049048\n",
       "153151_at       4.39932  4.59023  0.048230\n",
       "144344_f_at     4.27787  4.46235  0.047771\n",
       "\n",
       "[14010 rows x 3 columns]"
      ]
     },
     "execution_count": 72,
     "metadata": {},
     "output_type": "execute_result"
    }
   ],
   "source": [
    "# Calcular as estatísticas e ordenar pelo desvio padrão\n",
    "data_stats = data.apply(lambda x: [x.min(), x.max(), x.std()]).T\n",
    "\n",
    "# Adicionar colunas para min, max, e std\n",
    "data_stats.columns = ['min', 'max', 'std']\n",
    "\n",
    "# Ordenar pelo desvio padrão\n",
    "data_stats.sort_values(by='std', ascending=False)"
   ]
  },
  {
   "cell_type": "markdown",
   "metadata": {},
   "source": [
    "Neste conjunto de dados, as amostras estão organizadas em diferentes ambientes de recolha. Considerando que existem apenas 30 amostras e, portanto, uma quantidade limitada de dados, optou-se por não remover *outliers*, uma vez que não se revelou pertinente. Além disso, não foram identificados valores nulos nos dados. Dado que todos os dados estão representados na mesma escala (nível de expressão génica) e o número de atributos é consistente entre todas as amostras, não se mostrou necessário realizar normalização ou balanceamento dos dados.\n",
    "\n"
   ]
  },
  {
   "cell_type": "markdown",
   "metadata": {},
   "source": [
    "### 1.3 Análise estatística dos dados e metadados dos datasets"
   ]
  },
  {
   "cell_type": "markdown",
   "id": "b841e014",
   "metadata": {},
   "source": [
    "#### Filtragem de Dados"
   ]
  },
  {
   "cell_type": "markdown",
   "id": "08a6cabd",
   "metadata": {},
   "source": [
    "- Variabilidade dos Dados"
   ]
  },
  {
   "cell_type": "markdown",
   "id": "13a6f6e2",
   "metadata": {},
   "source": [
    "O *VarianceThreshold* é uma técnica de pré-processamento de dados utilizada principalmente em conjuntos de dados nos quais as *features* (variáveis) apresentam baixa variação. A ideia é remover as *features* que têm pouca ou nenhuma variação, pois não contribuem significativamente para a modelagem e podem até introduzir ruído desnecessário.\n",
    "\n",
    "A variação de uma *feature* é medida pelo desvio padrão ou pela variância. Se uma *feature* tem baixa variação, significa que os seus valores são relativamente constantes em todo o conjunto de dados, o que indica que ela não fornece muita informação útil para distinguir entre diferentes amostras."
   ]
  },
  {
   "cell_type": "code",
   "execution_count": 73,
   "id": "8559df80",
   "metadata": {},
   "outputs": [
    {
     "name": "stdout",
     "output_type": "stream",
     "text": [
      "Features com maior variância:\n",
      " (30, 11425)\n"
     ]
    },
    {
     "data": {
      "text/html": [
       "<div>\n",
       "<style scoped>\n",
       "    .dataframe tbody tr th:only-of-type {\n",
       "        vertical-align: middle;\n",
       "    }\n",
       "\n",
       "    .dataframe tbody tr th {\n",
       "        vertical-align: top;\n",
       "    }\n",
       "\n",
       "    .dataframe thead th {\n",
       "        text-align: right;\n",
       "    }\n",
       "</style>\n",
       "<table border=\"1\" class=\"dataframe\">\n",
       "  <thead>\n",
       "    <tr style=\"text-align: right;\">\n",
       "      <th></th>\n",
       "      <th>141200_at</th>\n",
       "      <th>141202_at</th>\n",
       "      <th>141203_at</th>\n",
       "      <th>141204_at</th>\n",
       "      <th>141205_at</th>\n",
       "      <th>141206_at</th>\n",
       "      <th>141207_at</th>\n",
       "      <th>141208_at</th>\n",
       "      <th>141209_at</th>\n",
       "      <th>141210_at</th>\n",
       "      <th>...</th>\n",
       "      <th>AFFX-MurIL10_at</th>\n",
       "      <th>AFFX-PheX-3_at</th>\n",
       "      <th>AFFX-PheX-5_at</th>\n",
       "      <th>AFFX-PheX-M_at</th>\n",
       "      <th>AFFX-ThrX-3_at</th>\n",
       "      <th>AFFX-ThrX-5_at</th>\n",
       "      <th>AFFX-ThrX-M_at</th>\n",
       "      <th>AFFX-TrpnX-3_at</th>\n",
       "      <th>AFFX-YEL002c/WBP1_at</th>\n",
       "      <th>AFFX-YEL018w/_at</th>\n",
       "    </tr>\n",
       "  </thead>\n",
       "  <tbody>\n",
       "    <tr>\n",
       "      <th>GSM95424</th>\n",
       "      <td>3.77628</td>\n",
       "      <td>6.80354</td>\n",
       "      <td>5.42622</td>\n",
       "      <td>4.58124</td>\n",
       "      <td>5.94997</td>\n",
       "      <td>7.10323</td>\n",
       "      <td>4.31335</td>\n",
       "      <td>5.25411</td>\n",
       "      <td>7.65238</td>\n",
       "      <td>3.52910</td>\n",
       "      <td>...</td>\n",
       "      <td>2.88433</td>\n",
       "      <td>6.86330</td>\n",
       "      <td>5.84211</td>\n",
       "      <td>5.12255</td>\n",
       "      <td>7.55184</td>\n",
       "      <td>5.43532</td>\n",
       "      <td>5.67326</td>\n",
       "      <td>2.36744</td>\n",
       "      <td>2.89604</td>\n",
       "      <td>2.34574</td>\n",
       "    </tr>\n",
       "    <tr>\n",
       "      <th>GSM95425</th>\n",
       "      <td>3.44458</td>\n",
       "      <td>7.01271</td>\n",
       "      <td>5.53965</td>\n",
       "      <td>4.55277</td>\n",
       "      <td>5.94535</td>\n",
       "      <td>6.90955</td>\n",
       "      <td>4.38611</td>\n",
       "      <td>5.27720</td>\n",
       "      <td>7.51818</td>\n",
       "      <td>3.55030</td>\n",
       "      <td>...</td>\n",
       "      <td>3.07804</td>\n",
       "      <td>5.72100</td>\n",
       "      <td>5.08416</td>\n",
       "      <td>4.30022</td>\n",
       "      <td>6.78527</td>\n",
       "      <td>5.05907</td>\n",
       "      <td>4.92737</td>\n",
       "      <td>2.27453</td>\n",
       "      <td>2.68409</td>\n",
       "      <td>2.46161</td>\n",
       "    </tr>\n",
       "    <tr>\n",
       "      <th>GSM95444</th>\n",
       "      <td>3.76067</td>\n",
       "      <td>6.81637</td>\n",
       "      <td>5.38007</td>\n",
       "      <td>4.45829</td>\n",
       "      <td>5.97233</td>\n",
       "      <td>6.94380</td>\n",
       "      <td>4.20917</td>\n",
       "      <td>5.36327</td>\n",
       "      <td>7.63492</td>\n",
       "      <td>3.74692</td>\n",
       "      <td>...</td>\n",
       "      <td>3.08857</td>\n",
       "      <td>7.26654</td>\n",
       "      <td>6.39501</td>\n",
       "      <td>5.57022</td>\n",
       "      <td>8.20187</td>\n",
       "      <td>5.83632</td>\n",
       "      <td>6.67257</td>\n",
       "      <td>2.40788</td>\n",
       "      <td>2.74543</td>\n",
       "      <td>2.42794</td>\n",
       "    </tr>\n",
       "    <tr>\n",
       "      <th>GSM95324</th>\n",
       "      <td>3.38473</td>\n",
       "      <td>6.66803</td>\n",
       "      <td>5.26991</td>\n",
       "      <td>4.45801</td>\n",
       "      <td>5.62635</td>\n",
       "      <td>6.82933</td>\n",
       "      <td>4.20606</td>\n",
       "      <td>5.32454</td>\n",
       "      <td>7.45160</td>\n",
       "      <td>3.42581</td>\n",
       "      <td>...</td>\n",
       "      <td>3.14887</td>\n",
       "      <td>5.65064</td>\n",
       "      <td>4.64463</td>\n",
       "      <td>4.11344</td>\n",
       "      <td>6.30469</td>\n",
       "      <td>5.02071</td>\n",
       "      <td>4.60969</td>\n",
       "      <td>2.33026</td>\n",
       "      <td>2.56479</td>\n",
       "      <td>2.40380</td>\n",
       "    </tr>\n",
       "    <tr>\n",
       "      <th>GSM95421</th>\n",
       "      <td>3.57696</td>\n",
       "      <td>6.73312</td>\n",
       "      <td>5.18558</td>\n",
       "      <td>4.56932</td>\n",
       "      <td>5.79158</td>\n",
       "      <td>6.97706</td>\n",
       "      <td>4.22661</td>\n",
       "      <td>5.40733</td>\n",
       "      <td>7.53137</td>\n",
       "      <td>3.50344</td>\n",
       "      <td>...</td>\n",
       "      <td>3.06756</td>\n",
       "      <td>5.63462</td>\n",
       "      <td>4.63722</td>\n",
       "      <td>3.99599</td>\n",
       "      <td>6.77700</td>\n",
       "      <td>4.85726</td>\n",
       "      <td>5.04870</td>\n",
       "      <td>2.35221</td>\n",
       "      <td>2.59447</td>\n",
       "      <td>2.38402</td>\n",
       "    </tr>\n",
       "  </tbody>\n",
       "</table>\n",
       "<p>5 rows × 11425 columns</p>\n",
       "</div>"
      ],
      "text/plain": [
       "          141200_at  141202_at  141203_at  141204_at  141205_at  141206_at  \\\n",
       "GSM95424    3.77628    6.80354    5.42622    4.58124    5.94997    7.10323   \n",
       "GSM95425    3.44458    7.01271    5.53965    4.55277    5.94535    6.90955   \n",
       "GSM95444    3.76067    6.81637    5.38007    4.45829    5.97233    6.94380   \n",
       "GSM95324    3.38473    6.66803    5.26991    4.45801    5.62635    6.82933   \n",
       "GSM95421    3.57696    6.73312    5.18558    4.56932    5.79158    6.97706   \n",
       "\n",
       "          141207_at  141208_at  141209_at  141210_at  ...  AFFX-MurIL10_at  \\\n",
       "GSM95424    4.31335    5.25411    7.65238    3.52910  ...          2.88433   \n",
       "GSM95425    4.38611    5.27720    7.51818    3.55030  ...          3.07804   \n",
       "GSM95444    4.20917    5.36327    7.63492    3.74692  ...          3.08857   \n",
       "GSM95324    4.20606    5.32454    7.45160    3.42581  ...          3.14887   \n",
       "GSM95421    4.22661    5.40733    7.53137    3.50344  ...          3.06756   \n",
       "\n",
       "          AFFX-PheX-3_at  AFFX-PheX-5_at  AFFX-PheX-M_at  AFFX-ThrX-3_at  \\\n",
       "GSM95424         6.86330         5.84211         5.12255         7.55184   \n",
       "GSM95425         5.72100         5.08416         4.30022         6.78527   \n",
       "GSM95444         7.26654         6.39501         5.57022         8.20187   \n",
       "GSM95324         5.65064         4.64463         4.11344         6.30469   \n",
       "GSM95421         5.63462         4.63722         3.99599         6.77700   \n",
       "\n",
       "          AFFX-ThrX-5_at  AFFX-ThrX-M_at  AFFX-TrpnX-3_at  \\\n",
       "GSM95424         5.43532         5.67326          2.36744   \n",
       "GSM95425         5.05907         4.92737          2.27453   \n",
       "GSM95444         5.83632         6.67257          2.40788   \n",
       "GSM95324         5.02071         4.60969          2.33026   \n",
       "GSM95421         4.85726         5.04870          2.35221   \n",
       "\n",
       "          AFFX-YEL002c/WBP1_at  AFFX-YEL018w/_at  \n",
       "GSM95424               2.89604           2.34574  \n",
       "GSM95425               2.68409           2.46161  \n",
       "GSM95444               2.74543           2.42794  \n",
       "GSM95324               2.56479           2.40380  \n",
       "GSM95421               2.59447           2.38402  \n",
       "\n",
       "[5 rows x 11425 columns]"
      ]
     },
     "execution_count": 73,
     "metadata": {},
     "output_type": "execute_result"
    }
   ],
   "source": [
    "\n",
    "# Remover amostras que variam pouco preservando as features com maior variabilidade\n",
    "threshold = 0.01\n",
    "\n",
    "from sklearn.feature_selection import VarianceThreshold\n",
    "\n",
    "# Remover todas as colunas (amostras) que possuem pouco variabilidade\n",
    "var_threshold = VarianceThreshold(threshold=threshold)\n",
    "x_variance = var_threshold.fit_transform(data)\n",
    "\n",
    "# Obter os índices das colunas com alta variância\n",
    "variance_columns = data.columns[var_threshold.get_support()]\n",
    "\n",
    "# Criar um novo dataframe apenas com as colunas de maior variância\n",
    "high_variance_data = data[variance_columns]\n",
    "print(\"Features com maior variância:\\n\", high_variance_data.shape)\n",
    "high_variance_data.head()"
   ]
  },
  {
   "cell_type": "markdown",
   "id": "46acb15c",
   "metadata": {},
   "source": [
    "- Por testes estatísticos univariados"
   ]
  },
  {
   "cell_type": "markdown",
   "id": "217a2145",
   "metadata": {},
   "source": [
    "Testes estatísticos univariados são procedimentos estatísticos projetados para analisar e tirar conclusões sobre uma única variável num conjunto de dados. Estes testes são comumente utilizados para avaliar se há diferenças significativas ou padrões numa única variável. Os testes estatísticos univariados ajudam a entender as características e comportamentos de uma única variável.\n",
    "A escolha do teste estatístico univariado depende da natureza da variável que está a ser analisado."
   ]
  },
  {
   "cell_type": "markdown",
   "id": "c6363944",
   "metadata": {},
   "source": [
    "#### SelectKBest"
   ]
  },
  {
   "cell_type": "markdown",
   "id": "e4d796f8",
   "metadata": {},
   "source": [
    "O *SelectKBest* é uma estratégia de filtragem que escolhe os k melhores recursos (ou colunas) de um conjunto de dados, visando reter apenas os mais relevantes. Esta técnica avalia cada recurso individualmente mediante uma métrica escolhida (*F-value*) e, em seguida, seleciona os k recursos com a pontuação mais elevada."
   ]
  },
  {
   "cell_type": "code",
   "execution_count": 74,
   "id": "bfc1d331",
   "metadata": {},
   "outputs": [
    {
     "name": "stderr",
     "output_type": "stream",
     "text": [
      "c:\\Users\\ruben\\anaconda3\\Lib\\site-packages\\sklearn\\feature_selection\\_univariate_selection.py:109: RuntimeWarning: invalid value encountered in divide\n",
      "  msw = sswn / float(dfwn)\n"
     ]
    },
    {
     "name": "stdout",
     "output_type": "stream",
     "text": [
      "(30, 10)\n"
     ]
    },
    {
     "data": {
      "text/html": [
       "<div>\n",
       "<style scoped>\n",
       "    .dataframe tbody tr th:only-of-type {\n",
       "        vertical-align: middle;\n",
       "    }\n",
       "\n",
       "    .dataframe tbody tr th {\n",
       "        vertical-align: top;\n",
       "    }\n",
       "\n",
       "    .dataframe thead th {\n",
       "        text-align: right;\n",
       "    }\n",
       "</style>\n",
       "<table border=\"1\" class=\"dataframe\">\n",
       "  <thead>\n",
       "    <tr style=\"text-align: right;\">\n",
       "      <th></th>\n",
       "      <th>AFFX-ThrX-3_at</th>\n",
       "      <th>AFFX-ThrX-5_at</th>\n",
       "      <th>AFFX-ThrX-M_at</th>\n",
       "      <th>AFFX-TrpnX-3_at</th>\n",
       "      <th>AFFX-TrpnX-5_at</th>\n",
       "      <th>AFFX-TrpnX-M_at</th>\n",
       "      <th>AFFX-YEL002c/WBP1_at</th>\n",
       "      <th>AFFX-YEL018w/_at</th>\n",
       "      <th>AFFX-YEL021w/URA3_at</th>\n",
       "      <th>AFFX-YEL024w/RIP1_at</th>\n",
       "    </tr>\n",
       "  </thead>\n",
       "  <tbody>\n",
       "    <tr>\n",
       "      <th>GSM95424</th>\n",
       "      <td>7.55184</td>\n",
       "      <td>5.43532</td>\n",
       "      <td>5.67326</td>\n",
       "      <td>2.36744</td>\n",
       "      <td>2.66457</td>\n",
       "      <td>2.72344</td>\n",
       "      <td>2.89604</td>\n",
       "      <td>2.34574</td>\n",
       "      <td>2.46772</td>\n",
       "      <td>2.87624</td>\n",
       "    </tr>\n",
       "    <tr>\n",
       "      <th>GSM95425</th>\n",
       "      <td>6.78527</td>\n",
       "      <td>5.05907</td>\n",
       "      <td>4.92737</td>\n",
       "      <td>2.27453</td>\n",
       "      <td>2.46741</td>\n",
       "      <td>2.77508</td>\n",
       "      <td>2.68409</td>\n",
       "      <td>2.46161</td>\n",
       "      <td>2.40230</td>\n",
       "      <td>2.88107</td>\n",
       "    </tr>\n",
       "    <tr>\n",
       "      <th>GSM95444</th>\n",
       "      <td>8.20187</td>\n",
       "      <td>5.83632</td>\n",
       "      <td>6.67257</td>\n",
       "      <td>2.40788</td>\n",
       "      <td>2.61438</td>\n",
       "      <td>2.65315</td>\n",
       "      <td>2.74543</td>\n",
       "      <td>2.42794</td>\n",
       "      <td>2.37488</td>\n",
       "      <td>2.93086</td>\n",
       "    </tr>\n",
       "    <tr>\n",
       "      <th>GSM95324</th>\n",
       "      <td>6.30469</td>\n",
       "      <td>5.02071</td>\n",
       "      <td>4.60969</td>\n",
       "      <td>2.33026</td>\n",
       "      <td>2.64872</td>\n",
       "      <td>2.68254</td>\n",
       "      <td>2.56479</td>\n",
       "      <td>2.40380</td>\n",
       "      <td>2.37482</td>\n",
       "      <td>2.81991</td>\n",
       "    </tr>\n",
       "    <tr>\n",
       "      <th>GSM95421</th>\n",
       "      <td>6.77700</td>\n",
       "      <td>4.85726</td>\n",
       "      <td>5.04870</td>\n",
       "      <td>2.35221</td>\n",
       "      <td>2.73892</td>\n",
       "      <td>2.73579</td>\n",
       "      <td>2.59447</td>\n",
       "      <td>2.38402</td>\n",
       "      <td>2.45214</td>\n",
       "      <td>2.85487</td>\n",
       "    </tr>\n",
       "  </tbody>\n",
       "</table>\n",
       "</div>"
      ],
      "text/plain": [
       "          AFFX-ThrX-3_at  AFFX-ThrX-5_at  AFFX-ThrX-M_at  AFFX-TrpnX-3_at  \\\n",
       "GSM95424         7.55184         5.43532         5.67326          2.36744   \n",
       "GSM95425         6.78527         5.05907         4.92737          2.27453   \n",
       "GSM95444         8.20187         5.83632         6.67257          2.40788   \n",
       "GSM95324         6.30469         5.02071         4.60969          2.33026   \n",
       "GSM95421         6.77700         4.85726         5.04870          2.35221   \n",
       "\n",
       "          AFFX-TrpnX-5_at  AFFX-TrpnX-M_at  AFFX-YEL002c/WBP1_at  \\\n",
       "GSM95424          2.66457          2.72344               2.89604   \n",
       "GSM95425          2.46741          2.77508               2.68409   \n",
       "GSM95444          2.61438          2.65315               2.74543   \n",
       "GSM95324          2.64872          2.68254               2.56479   \n",
       "GSM95421          2.73892          2.73579               2.59447   \n",
       "\n",
       "          AFFX-YEL018w/_at  AFFX-YEL021w/URA3_at  AFFX-YEL024w/RIP1_at  \n",
       "GSM95424           2.34574               2.46772               2.87624  \n",
       "GSM95425           2.46161               2.40230               2.88107  \n",
       "GSM95444           2.42794               2.37488               2.93086  \n",
       "GSM95324           2.40380               2.37482               2.81991  \n",
       "GSM95421           2.38402               2.45214               2.85487  "
      ]
     },
     "execution_count": 74,
     "metadata": {},
     "output_type": "execute_result"
    }
   ],
   "source": [
    "from sklearn.feature_selection import SelectKBest, f_classif\n",
    "\n",
    "# Selecionar os 10 melhores amostras, usando f_classif (ANOVA F-value between label/feature for classification tasks)\n",
    "skb = SelectKBest(f_classif, k=10)\n",
    "\n",
    "# fit and transform data\n",
    "labels = data.iloc[:,0]\n",
    "x_kbest = skb.fit_transform(data.iloc[:,1:], labels)\n",
    "\n",
    "# Obter o nome das colunas selecionadas\n",
    "kbest_columns = data[skb.get_feature_names_out()]\n",
    "\n",
    "# Criar um DataFrame resultante de x_kbest mantendo o nome das colunas e indices\n",
    "data_kbest = pd.DataFrame(data=x_kbest, index=data.index, columns=kbest_columns.columns)\n",
    "print(data_kbest.shape)\n",
    "data_kbest.head()"
   ]
  },
  {
   "cell_type": "code",
   "execution_count": 75,
   "id": "b4a78381",
   "metadata": {},
   "outputs": [
    {
     "data": {
      "image/png": "[encoded data removed]",
      "text/plain": [
       "<Figure size 640x480 with 1 Axes>"
      ]
     },
     "metadata": {},
     "output_type": "display_data"
    }
   ],
   "source": [
    "import matplotlib.pyplot as plt\n",
    "\n",
    "# Criar o boxplot dos dados selecionados com os 10 melhores amostras\n",
    "plt.boxplot(data_kbest)\n",
    "plt.title('10 melhores amostras')\n",
    "plt.xticks(np.arange(1, 11), data_kbest.columns, rotation=90)\n",
    "plt.show()"
   ]
  },
  {
   "cell_type": "markdown",
   "id": "4b2f021d",
   "metadata": {},
   "source": [
    "#### SelectPercentile"
   ]
  },
  {
   "cell_type": "markdown",
   "id": "b4140a21",
   "metadata": {},
   "source": [
    "O *SelectPercentile* é uma técnica de seleção de características que permite escolher as características mais relevantes de um conjunto de dados com base numa medida de importância, como o valor F da ANOVA (Análise de Variância) entre classes/*features*, especialmente aplicado a tarefas de classificação.\n",
    "\n",
    "Esta abordagem é útil quando se deseja reduzir a dimensionalidade do conjunto de dados, mantendo apenas as características mais informativas para a tarefa em questão."
   ]
  },
  {
   "cell_type": "code",
   "execution_count": 76,
   "id": "abcf0b1b",
   "metadata": {},
   "outputs": [
    {
     "name": "stderr",
     "output_type": "stream",
     "text": [
      "c:\\Users\\ruben\\anaconda3\\Lib\\site-packages\\sklearn\\feature_selection\\_univariate_selection.py:109: RuntimeWarning: invalid value encountered in divide\n",
      "  msw = sswn / float(dfwn)\n"
     ]
    },
    {
     "name": "stdout",
     "output_type": "stream",
     "text": [
      "(30, 3502)\n"
     ]
    },
    {
     "data": {
      "text/html": [
       "<div>\n",
       "<style scoped>\n",
       "    .dataframe tbody tr th:only-of-type {\n",
       "        vertical-align: middle;\n",
       "    }\n",
       "\n",
       "    .dataframe tbody tr th {\n",
       "        vertical-align: top;\n",
       "    }\n",
       "\n",
       "    .dataframe thead th {\n",
       "        text-align: right;\n",
       "    }\n",
       "</style>\n",
       "<table border=\"1\" class=\"dataframe\">\n",
       "  <thead>\n",
       "    <tr style=\"text-align: right;\">\n",
       "      <th></th>\n",
       "      <th>141201_at</th>\n",
       "      <th>141202_at</th>\n",
       "      <th>141203_at</th>\n",
       "      <th>141204_at</th>\n",
       "      <th>141205_at</th>\n",
       "      <th>141206_at</th>\n",
       "      <th>141207_at</th>\n",
       "      <th>141208_at</th>\n",
       "      <th>141209_at</th>\n",
       "      <th>141210_at</th>\n",
       "      <th>...</th>\n",
       "      <th>144693_at</th>\n",
       "      <th>144694_at</th>\n",
       "      <th>144695_at</th>\n",
       "      <th>144696_at</th>\n",
       "      <th>144697_at</th>\n",
       "      <th>144698_at</th>\n",
       "      <th>144699_at</th>\n",
       "      <th>144700_at</th>\n",
       "      <th>144701_at</th>\n",
       "      <th>144702_at</th>\n",
       "    </tr>\n",
       "  </thead>\n",
       "  <tbody>\n",
       "    <tr>\n",
       "      <th>GSM95424</th>\n",
       "      <td>5.64283</td>\n",
       "      <td>6.80354</td>\n",
       "      <td>5.42622</td>\n",
       "      <td>4.58124</td>\n",
       "      <td>5.94997</td>\n",
       "      <td>7.10323</td>\n",
       "      <td>4.31335</td>\n",
       "      <td>5.25411</td>\n",
       "      <td>7.65238</td>\n",
       "      <td>3.52910</td>\n",
       "      <td>...</td>\n",
       "      <td>4.90477</td>\n",
       "      <td>5.35752</td>\n",
       "      <td>2.89185</td>\n",
       "      <td>3.16707</td>\n",
       "      <td>4.58981</td>\n",
       "      <td>6.43573</td>\n",
       "      <td>7.37919</td>\n",
       "      <td>6.18249</td>\n",
       "      <td>9.44246</td>\n",
       "      <td>5.02405</td>\n",
       "    </tr>\n",
       "    <tr>\n",
       "      <th>GSM95425</th>\n",
       "      <td>5.47795</td>\n",
       "      <td>7.01271</td>\n",
       "      <td>5.53965</td>\n",
       "      <td>4.55277</td>\n",
       "      <td>5.94535</td>\n",
       "      <td>6.90955</td>\n",
       "      <td>4.38611</td>\n",
       "      <td>5.27720</td>\n",
       "      <td>7.51818</td>\n",
       "      <td>3.55030</td>\n",
       "      <td>...</td>\n",
       "      <td>5.01567</td>\n",
       "      <td>5.35918</td>\n",
       "      <td>2.85062</td>\n",
       "      <td>3.10860</td>\n",
       "      <td>4.64608</td>\n",
       "      <td>6.48383</td>\n",
       "      <td>7.45468</td>\n",
       "      <td>6.13735</td>\n",
       "      <td>9.57269</td>\n",
       "      <td>4.76370</td>\n",
       "    </tr>\n",
       "    <tr>\n",
       "      <th>GSM95444</th>\n",
       "      <td>5.53370</td>\n",
       "      <td>6.81637</td>\n",
       "      <td>5.38007</td>\n",
       "      <td>4.45829</td>\n",
       "      <td>5.97233</td>\n",
       "      <td>6.94380</td>\n",
       "      <td>4.20917</td>\n",
       "      <td>5.36327</td>\n",
       "      <td>7.63492</td>\n",
       "      <td>3.74692</td>\n",
       "      <td>...</td>\n",
       "      <td>4.95230</td>\n",
       "      <td>5.45944</td>\n",
       "      <td>2.69804</td>\n",
       "      <td>2.92900</td>\n",
       "      <td>4.88314</td>\n",
       "      <td>6.20721</td>\n",
       "      <td>7.25079</td>\n",
       "      <td>6.12809</td>\n",
       "      <td>9.63778</td>\n",
       "      <td>5.07952</td>\n",
       "    </tr>\n",
       "    <tr>\n",
       "      <th>GSM95324</th>\n",
       "      <td>5.58603</td>\n",
       "      <td>6.66803</td>\n",
       "      <td>5.26991</td>\n",
       "      <td>4.45801</td>\n",
       "      <td>5.62635</td>\n",
       "      <td>6.82933</td>\n",
       "      <td>4.20606</td>\n",
       "      <td>5.32454</td>\n",
       "      <td>7.45160</td>\n",
       "      <td>3.42581</td>\n",
       "      <td>...</td>\n",
       "      <td>5.07707</td>\n",
       "      <td>5.47173</td>\n",
       "      <td>2.80392</td>\n",
       "      <td>3.13503</td>\n",
       "      <td>5.00198</td>\n",
       "      <td>6.45948</td>\n",
       "      <td>7.41492</td>\n",
       "      <td>6.15963</td>\n",
       "      <td>9.18983</td>\n",
       "      <td>4.93933</td>\n",
       "    </tr>\n",
       "    <tr>\n",
       "      <th>GSM95421</th>\n",
       "      <td>5.60629</td>\n",
       "      <td>6.73312</td>\n",
       "      <td>5.18558</td>\n",
       "      <td>4.56932</td>\n",
       "      <td>5.79158</td>\n",
       "      <td>6.97706</td>\n",
       "      <td>4.22661</td>\n",
       "      <td>5.40733</td>\n",
       "      <td>7.53137</td>\n",
       "      <td>3.50344</td>\n",
       "      <td>...</td>\n",
       "      <td>5.01669</td>\n",
       "      <td>5.62500</td>\n",
       "      <td>2.63672</td>\n",
       "      <td>3.03565</td>\n",
       "      <td>4.84431</td>\n",
       "      <td>6.22364</td>\n",
       "      <td>7.42379</td>\n",
       "      <td>6.36768</td>\n",
       "      <td>8.94567</td>\n",
       "      <td>5.14423</td>\n",
       "    </tr>\n",
       "  </tbody>\n",
       "</table>\n",
       "<p>5 rows × 3502 columns</p>\n",
       "</div>"
      ],
      "text/plain": [
       "          141201_at  141202_at  141203_at  141204_at  141205_at  141206_at  \\\n",
       "GSM95424    5.64283    6.80354    5.42622    4.58124    5.94997    7.10323   \n",
       "GSM95425    5.47795    7.01271    5.53965    4.55277    5.94535    6.90955   \n",
       "GSM95444    5.53370    6.81637    5.38007    4.45829    5.97233    6.94380   \n",
       "GSM95324    5.58603    6.66803    5.26991    4.45801    5.62635    6.82933   \n",
       "GSM95421    5.60629    6.73312    5.18558    4.56932    5.79158    6.97706   \n",
       "\n",
       "          141207_at  141208_at  141209_at  141210_at  ...  144693_at  \\\n",
       "GSM95424    4.31335    5.25411    7.65238    3.52910  ...    4.90477   \n",
       "GSM95425    4.38611    5.27720    7.51818    3.55030  ...    5.01567   \n",
       "GSM95444    4.20917    5.36327    7.63492    3.74692  ...    4.95230   \n",
       "GSM95324    4.20606    5.32454    7.45160    3.42581  ...    5.07707   \n",
       "GSM95421    4.22661    5.40733    7.53137    3.50344  ...    5.01669   \n",
       "\n",
       "          144694_at  144695_at  144696_at  144697_at  144698_at  144699_at  \\\n",
       "GSM95424    5.35752    2.89185    3.16707    4.58981    6.43573    7.37919   \n",
       "GSM95425    5.35918    2.85062    3.10860    4.64608    6.48383    7.45468   \n",
       "GSM95444    5.45944    2.69804    2.92900    4.88314    6.20721    7.25079   \n",
       "GSM95324    5.47173    2.80392    3.13503    5.00198    6.45948    7.41492   \n",
       "GSM95421    5.62500    2.63672    3.03565    4.84431    6.22364    7.42379   \n",
       "\n",
       "          144700_at  144701_at  144702_at  \n",
       "GSM95424    6.18249    9.44246    5.02405  \n",
       "GSM95425    6.13735    9.57269    4.76370  \n",
       "GSM95444    6.12809    9.63778    5.07952  \n",
       "GSM95324    6.15963    9.18983    4.93933  \n",
       "GSM95421    6.36768    8.94567    5.14423  \n",
       "\n",
       "[5 rows x 3502 columns]"
      ]
     },
     "execution_count": 76,
     "metadata": {},
     "output_type": "execute_result"
    }
   ],
   "source": [
    "from sklearn.feature_selection import SelectPercentile, f_classif\n",
    "\n",
    "# Selecionar as melhores colunas usando f_classif (ANOVA F-value between label/feature for classification tasks)\n",
    "selector = SelectPercentile(f_classif, percentile=25)\n",
    "\n",
    "# fit and transform data\n",
    "labels = data.iloc[:,0]\n",
    "x_best = selector.fit_transform(data.iloc[:,1:], labels)\n",
    "\n",
    "# Obter o nome das colunas selecionadas\n",
    "best_columns = data[selector.get_feature_names_out()]\n",
    "\n",
    "# Criar um DataFrame resultante de x_best mantendo o nome das colunas e indices\n",
    "data_best = pd.DataFrame(data=x_best, index=data.index, columns=best_columns.columns)\n",
    "print(data_best.shape)\n",
    "data_best.head()"
   ]
  },
  {
   "cell_type": "markdown",
   "id": "7b865636",
   "metadata": {},
   "source": [
    "## 2ª Etapa"
   ]
  },
  {
   "cell_type": "markdown",
   "metadata": {},
   "source": [
    "Este conjunto de dados é caracterizado por um elevado número de atributos (colunas), totalizando 14.010, correspondentes aos diferentes genes objeto de estudo. A realização de uma análise de Componentes Principais (*PC - Principal Components*) possibilitará a redução desse número, destacando apenas os atributos que conseguem explicar a maioria da variabilidade dos dados. Por exemplo, ao aplicar uma Análise de Componentes Principais que explique 90% dessa variabilidade, será possível reduzir o número de atributos àqueles que contribuem para essa explicação."
   ]
  },
  {
   "cell_type": "markdown",
   "metadata": {},
   "source": [
    "#### PCA"
   ]
  },
  {
   "cell_type": "code",
   "execution_count": 77,
   "id": "12c93a50",
   "metadata": {},
   "outputs": [
    {
     "name": "stdout",
     "output_type": "stream",
     "text": [
      "[2.39691084e-01 1.58470120e-01 7.16860362e-02 4.50942771e-02\n",
      " 3.79773784e-02 3.63413360e-02 3.27745431e-02 2.90720793e-02\n",
      " 2.77946897e-02 2.40645040e-02 2.23265235e-02 2.06159151e-02\n",
      " 1.96604660e-02 1.90771731e-02 1.86079279e-02 1.76392933e-02\n",
      " 1.72669578e-02 1.62588555e-02 1.57998798e-02 1.52603008e-02\n",
      " 1.47597314e-02 1.43374509e-02 1.40301536e-02 1.31051139e-02\n",
      " 1.25497475e-02 1.23073635e-02 1.19131001e-02 1.12827570e-02\n",
      " 1.02352418e-02 1.48334464e-35]\n",
      "0.702966047660038\n"
     ]
    },
    {
     "data": {
      "image/png": "[encoded data removed]",
      "text/plain": [
       "<Figure size 2000x600 with 1 Axes>"
      ]
     },
     "metadata": {},
     "output_type": "display_data"
    },
    {
     "name": "stdout",
     "output_type": "stream",
     "text": [
      "0.702966047660038 9\n",
      "0.7252925711182634 10\n",
      "0.7459084862141241 11\n",
      "0.7655689522059181 12\n",
      "0.7846461252670309 13\n",
      "0.8032540531492964 14\n",
      "0.8208933464185277 15\n",
      "0.8381603042439877 16\n",
      "0.8544191596971646 17\n",
      "0.870219039463503 18\n",
      "0.885479340219954 19\n",
      "0.9002390716175566 20\n",
      "0.9145765225538591 21\n",
      "0.9286066761961073 22\n",
      "0.9417117901049409 23\n",
      "0.9542615375943397 24\n",
      "0.96656890113659 25\n",
      "0.9784820012019475 26\n",
      "0.9897647582223361 27\n",
      "1.0000000000000002 28\n",
      "1.0000000000000002 29\n"
     ]
    }
   ],
   "source": [
    "# 30 amostras para análise\n",
    "n=30\n",
    "\n",
    "pca = PCA(n_components=n)\n",
    "data_scale = preprocessing.scale(data)\n",
    "pca.fit(data_scale)  # media e desvio\n",
    "x_reduced = pca.transform(data_scale)   \n",
    "principalComponents = pca.fit_transform(x_reduced)  # escala\n",
    "print (pca.explained_variance_ratio_) \n",
    "print(sum(pca.explained_variance_ratio_[:10]))  # 90% da variabilidade\n",
    "\n",
    "per_var=np.round(pca.explained_variance_ratio_*100, decimals=1)\n",
    "labels=[\"PC\"+str(x) for x in range(1,len(per_var)+1)]\n",
    "plt.figure(figsize=(20, 6))  # width:20, height:3\n",
    "\n",
    "plt.bar([x*2 for x in range(1,len(per_var)+1)], height=per_var, align=\"center\", width=1)\n",
    "plt.ylabel(\"Percentagem da variação explicada\")\n",
    "plt.xticks([x*2 for x in range(1,len(per_var)+1)], labels, rotation=45)\n",
    "\n",
    "plt.show()\n",
    "\n",
    "soma=0\n",
    "for i in range(len(pca.explained_variance_ratio_)):\n",
    "    soma+=pca.explained_variance_ratio_[i]\n",
    "    if soma>=0.70:\n",
    "        print(soma,i)"
   ]
  },
  {
   "cell_type": "markdown",
   "metadata": {},
   "source": [
    "A representação gráfica das percentagens de variabilidade explicadas pelos Componentes Principais (PC) revela que, a partir dos 10 primeiros componentes, a contribuição adicional de cada novo componente principal para a explicação da variabilidade é bastante reduzida. Os 10 primeiros PC conseguem descrever 72.5% da variabilidade total, enquanto que a alcançar os 90% de variabilidade \"standard\" são necessários 20 PC.\n",
    "\n",
    "Seguindo esta análise, procedeu-se à avaliação dos scores obtidos através da Análise de Componentes Principais (PCA), recorrendo a representações gráficas. Este método permite identificar de forma mais clara as correlações entre os dados e analisar se existem tendências associadas aos diferentes protocolos implementados. Esta análise posiciona as amostras num espaço bidimensional, em que o eixo x reflete a separação com base nos scores do primeiro PCA, enquanto o eixo y representa a separação com base nos scores do segundo PCA."
   ]
  },
  {
   "cell_type": "code",
   "execution_count": 78,
   "id": "9c0638cf",
   "metadata": {},
   "outputs": [
    {
     "data": {
      "image/png": "[encoded data removed]",
      "text/plain": [
       "<Figure size 640x480 with 1 Axes>"
      ]
     },
     "metadata": {},
     "output_type": "display_data"
    }
   ],
   "source": [
    "for tipo in metaDados['protocol'].unique():\n",
    "    sp = data.index[metaDados['protocol']==tipo]\n",
    "    l=[]\n",
    "    for x in sp:\n",
    "        idx = data.index.get_loc(x)\n",
    "        l.append(idx)\n",
    "    plt.plot(x_reduced[l,0],x_reduced[l,1], 'D' , label=tipo)\n",
    "    \n",
    "plt.title(\"PCA\")\n",
    "\n",
    "plt.xlabel(\"1º PCA\")\n",
    "plt.ylabel(\"2º PCA\")\n",
    "\n",
    "\n",
    "plt.legend(loc='best', shadow=False, bbox_to_anchor=(1, 0., 0.5, 0.5))\n",
    "plt.show()"
   ]
  },
  {
   "cell_type": "markdown",
   "metadata": {},
   "source": [
    "Apesar de se constatar que, por exemplo, entre os protocolos de '*sleep*' e '*sleep deprived*' ocorre uma diferenciação, especialmente evidente no 1º Componente Principal (PCA), esta não se revela tão nítida como inicialmente antecipado, dada a significativa dispersão observada. Destaca-se a concentração notável das amostras do protocolo '*perturbed during active*', indicando padrões de ativação génica notavelmente semelhantes, sugerindo uma elevada qualidade destas amostras. Mesmo com uma maior diferenciação no 2º PCA, as amostras de '*active period control*' também apresentam proximidade considerável entre si. Quanto às amostras de '*sleep period control*', a sua separação ocorre principalmente ao longo do 1º PCA, com escassa dispersão no eixo dos y (2º PCA), atribuível à disparidade nos valores dos genes utilizados para construir o 1º PCA. Por fim, as amostras de '*unperturbed during active period*' também evidenciam um agrupamento relativamente coeso."
   ]
  },
  {
   "cell_type": "markdown",
   "metadata": {},
   "source": [
    "#### Dendograma"
   ]
  },
  {
   "cell_type": "code",
   "execution_count": 79,
   "id": "c270a056",
   "metadata": {},
   "outputs": [
    {
     "data": {
      "image/png": "[encoded data removed]",
      "text/plain": [
       "<Figure size 2500x1000 with 1 Axes>"
      ]
     },
     "metadata": {},
     "output_type": "display_data"
    }
   ],
   "source": [
    "# Cria-se um dendograma - resultado de um clustering hierárquico \n",
    "\n",
    "Z = linkage(data, metric='cityblock')\n",
    "metaDados['labels'] = metaDados['protocol'] \n",
    "\n",
    "\n",
    "plt.figure(figsize=(25, 10))\n",
    "dendrogram(\n",
    "    Z,\n",
    "    labels=list(metaDados['labels']),\n",
    "    leaf_rotation=90.,  # roda os eixos dos x\n",
    "    leaf_font_size=8.,  # tamanho da letra para a label\n",
    ")\n",
    "\n",
    "plt.title('Hierarchical Clustering Dendrogram')\n",
    "plt.ylabel('distance')\n",
    "\n",
    "label_colors = {'active period control': 'y', \n",
    "                'unperturbed during active period': 'g', \n",
    "                'perturbed during active period': 'm',  \n",
    "                'sleep period control': 'b', \n",
    "                'sleep': 'r',\n",
    "                'sleep deprived': 'k',\n",
    "               }\n",
    "ax = plt.gca()\n",
    "xlbls = ax.get_xmajorticklabels()\n",
    "for lbl in xlbls:\n",
    "    lbl.set_color(label_colors[lbl.get_text()])\n",
    "\n",
    "plt.show()"
   ]
  },
  {
   "cell_type": "markdown",
   "id": "554b9d6f",
   "metadata": {},
   "source": [
    "A análise do *cluster* hierárquico proporciona *insights* valiosos:\n",
    "\n",
    "- As moscas que passaram pelo período de sono revelam padrões de expressão mais similares entre si, independentemente do período considerado, predominando no *cluster* verde.\n",
    "\n",
    "- Moscas perturbadas durante o período ativo exibem padrões expressivos igualmente próximos entre si, agrupando-se no *cluster* laranja. Este agrupamento sugere a ativação de mecanismos comuns em moscas perturbadas.\n",
    "\n",
    "- As moscas privadas de sono demonstram expressões mais diversas, sugerindo que a natureza da resposta nessas situações varia de organismo para organismo e ao longo do tempo de exposição à privação do sono. Dado que a privação do sono tende a desregular funções normais, essa desregulação pode manifestar-se de forma única em cada organismo."
   ]
  },
  {
   "cell_type": "markdown",
   "id": "54bf5bfc",
   "metadata": {},
   "source": [
    "#### Método do cotovelo - Escolher o k"
   ]
  },
  {
   "cell_type": "code",
   "execution_count": 80,
   "id": "059692e0",
   "metadata": {},
   "outputs": [
    {
     "name": "stderr",
     "output_type": "stream",
     "text": [
      "c:\\Users\\ruben\\anaconda3\\Lib\\site-packages\\sklearn\\cluster\\_kmeans.py:1412: FutureWarning: The default value of `n_init` will change from 10 to 'auto' in 1.4. Set the value of `n_init` explicitly to suppress the warning\n",
      "  super()._check_params_vs_input(X, default_n_init=10)\n",
      "c:\\Users\\ruben\\anaconda3\\Lib\\site-packages\\sklearn\\cluster\\_kmeans.py:1436: UserWarning: KMeans is known to have a memory leak on Windows with MKL, when there are less chunks than available threads. You can avoid it by setting the environment variable OMP_NUM_THREADS=1.\n",
      "  warnings.warn(\n",
      "c:\\Users\\ruben\\anaconda3\\Lib\\site-packages\\sklearn\\cluster\\_kmeans.py:1412: FutureWarning: The default value of `n_init` will change from 10 to 'auto' in 1.4. Set the value of `n_init` explicitly to suppress the warning\n",
      "  super()._check_params_vs_input(X, default_n_init=10)\n",
      "c:\\Users\\ruben\\anaconda3\\Lib\\site-packages\\sklearn\\cluster\\_kmeans.py:1436: UserWarning: KMeans is known to have a memory leak on Windows with MKL, when there are less chunks than available threads. You can avoid it by setting the environment variable OMP_NUM_THREADS=1.\n",
      "  warnings.warn(\n",
      "c:\\Users\\ruben\\anaconda3\\Lib\\site-packages\\sklearn\\cluster\\_kmeans.py:1412: FutureWarning: The default value of `n_init` will change from 10 to 'auto' in 1.4. Set the value of `n_init` explicitly to suppress the warning\n",
      "  super()._check_params_vs_input(X, default_n_init=10)\n",
      "c:\\Users\\ruben\\anaconda3\\Lib\\site-packages\\sklearn\\cluster\\_kmeans.py:1436: UserWarning: KMeans is known to have a memory leak on Windows with MKL, when there are less chunks than available threads. You can avoid it by setting the environment variable OMP_NUM_THREADS=1.\n",
      "  warnings.warn(\n",
      "c:\\Users\\ruben\\anaconda3\\Lib\\site-packages\\sklearn\\cluster\\_kmeans.py:1412: FutureWarning: The default value of `n_init` will change from 10 to 'auto' in 1.4. Set the value of `n_init` explicitly to suppress the warning\n",
      "  super()._check_params_vs_input(X, default_n_init=10)\n",
      "c:\\Users\\ruben\\anaconda3\\Lib\\site-packages\\sklearn\\cluster\\_kmeans.py:1436: UserWarning: KMeans is known to have a memory leak on Windows with MKL, when there are less chunks than available threads. You can avoid it by setting the environment variable OMP_NUM_THREADS=1.\n",
      "  warnings.warn(\n",
      "c:\\Users\\ruben\\anaconda3\\Lib\\site-packages\\sklearn\\cluster\\_kmeans.py:1412: FutureWarning: The default value of `n_init` will change from 10 to 'auto' in 1.4. Set the value of `n_init` explicitly to suppress the warning\n",
      "  super()._check_params_vs_input(X, default_n_init=10)\n",
      "c:\\Users\\ruben\\anaconda3\\Lib\\site-packages\\sklearn\\cluster\\_kmeans.py:1436: UserWarning: KMeans is known to have a memory leak on Windows with MKL, when there are less chunks than available threads. You can avoid it by setting the environment variable OMP_NUM_THREADS=1.\n",
      "  warnings.warn(\n"
     ]
    },
    {
     "data": {
      "image/png": "[encoded data removed]",
      "text/plain": [
       "<Figure size 640x480 with 1 Axes>"
      ]
     },
     "metadata": {},
     "output_type": "display_data"
    }
   ],
   "source": [
    "from sklearn.cluster import KMeans\n",
    "import matplotlib.pyplot as plt\n",
    "\n",
    "# Suponha que X seja seus dados\n",
    "distortions = []\n",
    "K_range = range(1, 6)\n",
    "\n",
    "for k in K_range:\n",
    "    kmeanModel = KMeans(n_clusters=k, max_iter=1000)\n",
    "    kmeanModel.fit(data_scale)\n",
    "    distortions.append(kmeanModel.inertia_)\n",
    "\n",
    "plt.plot(K_range, distortions, 'bx-')\n",
    "plt.xlabel('Número de Clusters (k)')\n",
    "plt.ylabel('Soma dos Quadrados Intra-Cluster')\n",
    "plt.title('Método do Cotovelo para Escolha de K')\n",
    "plt.show()"
   ]
  },
  {
   "cell_type": "code",
   "execution_count": 81,
   "id": "62e92af2",
   "metadata": {},
   "outputs": [
    {
     "name": "stderr",
     "output_type": "stream",
     "text": [
      "c:\\Users\\ruben\\anaconda3\\Lib\\site-packages\\sklearn\\cluster\\_kmeans.py:1412: FutureWarning: The default value of `n_init` will change from 10 to 'auto' in 1.4. Set the value of `n_init` explicitly to suppress the warning\n",
      "  super()._check_params_vs_input(X, default_n_init=10)\n",
      "c:\\Users\\ruben\\anaconda3\\Lib\\site-packages\\sklearn\\cluster\\_kmeans.py:1436: UserWarning: KMeans is known to have a memory leak on Windows with MKL, when there are less chunks than available threads. You can avoid it by setting the environment variable OMP_NUM_THREADS=1.\n",
      "  warnings.warn(\n"
     ]
    },
    {
     "data": {
      "text/html": [
       "<div>\n",
       "<style scoped>\n",
       "    .dataframe tbody tr th:only-of-type {\n",
       "        vertical-align: middle;\n",
       "    }\n",
       "\n",
       "    .dataframe tbody tr th {\n",
       "        vertical-align: top;\n",
       "    }\n",
       "\n",
       "    .dataframe thead th {\n",
       "        text-align: right;\n",
       "    }\n",
       "</style>\n",
       "<table border=\"1\" class=\"dataframe\">\n",
       "  <thead>\n",
       "    <tr style=\"text-align: right;\">\n",
       "      <th>protocol</th>\n",
       "      <th>active period control</th>\n",
       "      <th>perturbed during active period</th>\n",
       "      <th>sleep</th>\n",
       "      <th>sleep deprived</th>\n",
       "      <th>sleep period control</th>\n",
       "      <th>unperturbed during active period</th>\n",
       "    </tr>\n",
       "    <tr>\n",
       "      <th>clusters</th>\n",
       "      <th></th>\n",
       "      <th></th>\n",
       "      <th></th>\n",
       "      <th></th>\n",
       "      <th></th>\n",
       "      <th></th>\n",
       "    </tr>\n",
       "  </thead>\n",
       "  <tbody>\n",
       "    <tr>\n",
       "      <th>0</th>\n",
       "      <td>2</td>\n",
       "      <td>3</td>\n",
       "      <td>1</td>\n",
       "      <td>1</td>\n",
       "      <td>0</td>\n",
       "      <td>2</td>\n",
       "    </tr>\n",
       "    <tr>\n",
       "      <th>1</th>\n",
       "      <td>1</td>\n",
       "      <td>0</td>\n",
       "      <td>6</td>\n",
       "      <td>3</td>\n",
       "      <td>2</td>\n",
       "      <td>0</td>\n",
       "    </tr>\n",
       "    <tr>\n",
       "      <th>2</th>\n",
       "      <td>0</td>\n",
       "      <td>0</td>\n",
       "      <td>2</td>\n",
       "      <td>5</td>\n",
       "      <td>1</td>\n",
       "      <td>1</td>\n",
       "    </tr>\n",
       "  </tbody>\n",
       "</table>\n",
       "</div>"
      ],
      "text/plain": [
       "protocol  active period control  perturbed during active period  sleep  \\\n",
       "clusters                                                                 \n",
       "0                             2                               3      1   \n",
       "1                             1                               0      6   \n",
       "2                             0                               0      2   \n",
       "\n",
       "protocol  sleep deprived  sleep period control  \\\n",
       "clusters                                         \n",
       "0                      1                     0   \n",
       "1                      3                     2   \n",
       "2                      5                     1   \n",
       "\n",
       "protocol  unperturbed during active period  \n",
       "clusters                                    \n",
       "0                                        2  \n",
       "1                                        0  \n",
       "2                                        1  "
      ]
     },
     "execution_count": 81,
     "metadata": {},
     "output_type": "execute_result"
    }
   ],
   "source": [
    "from sklearn.cluster import KMeans\n",
    "\n",
    "k=3\n",
    "kmeans = KMeans(n_clusters=k, max_iter=1000)\n",
    "kmeans.fit(data_scale)\n",
    "labels = kmeans.labels_\n",
    "centroids = kmeans.cluster_centers_\n",
    "\n",
    "pd.crosstab(labels, metaDados['protocol'], rownames=['clusters'] )"
   ]
  },
  {
   "cell_type": "markdown",
   "id": "d889791f",
   "metadata": {},
   "source": [
    "A análise de *clusters* executada através do método k-means reforça as conclusões anteriores, evidenciando que as moscas que passaram pelo período de sono predominam no *cluster* 1, enquanto aquelas perturbadas durante o período ativo estão todas agrupadas no *cluster* 2. Por sua vez, as moscas privadas de sono exibem uma distribuição mais dispersa, corroborando a variabilidade observada anteriormente."
   ]
  },
  {
   "cell_type": "markdown",
   "id": "8e3e2378",
   "metadata": {},
   "source": [
    "## 3ª Etapa"
   ]
  },
  {
   "cell_type": "markdown",
   "id": "e9dd0e62",
   "metadata": {},
   "source": [
    "A etapa subsequente consiste na implementação de modelos de *Machine Learning*. Portanto, é imperativo proceder à divisão dos dados em conjuntos de treino e teste. O conjunto de treino é utilizado como entrada para o modelo, permitindo que este estabeleça as suas relações. Por sua vez, o conjunto de teste, como o próprio nome sugere, é empregado para avaliar a eficácia dessas relações na previsão do ambiente ao qual as moscas foram submetidas."
   ]
  },
  {
   "cell_type": "markdown",
   "id": "5363b1e7",
   "metadata": {},
   "source": [
    "### Modelos com Percentage Split"
   ]
  },
  {
   "cell_type": "code",
   "execution_count": 82,
   "id": "c44c5741",
   "metadata": {},
   "outputs": [
    {
     "name": "stdout",
     "output_type": "stream",
     "text": [
      "30\n",
      "TreinoX  (21, 14010)\n",
      "TesteX (9, 14010)\n",
      "TreinoY  (21,)\n",
      "TesteY (9,)\n"
     ]
    }
   ],
   "source": [
    "from sklearn.model_selection import train_test_split\n",
    "\n",
    "dados_entrada = data.values\n",
    "dados_saida = metaDados['protocol'].values\n",
    "entrada_proc = preprocessing.scale(dados_entrada)\n",
    "print(len(entrada_proc))\n",
    "\n",
    "treinoX, testeX, treinoY, testeY = train_test_split(entrada_proc, dados_saida, test_size=0.3)\n",
    "print(\"TreinoX \", treinoX.shape)\n",
    "print(\"TesteX\", testeX.shape)\n",
    "print(\"TreinoY \", treinoY.shape)\n",
    "print(\"TesteY\", testeY.shape)"
   ]
  },
  {
   "cell_type": "markdown",
   "id": "646940cb",
   "metadata": {},
   "source": [
    "#### Verificação da distribuição dos dados para treino e para teste"
   ]
  },
  {
   "cell_type": "code",
   "execution_count": 83,
   "id": "b77a4e31",
   "metadata": {},
   "outputs": [
    {
     "name": "stdout",
     "output_type": "stream",
     "text": [
      "sleep                               7\n",
      "sleep deprived                      6\n",
      "unperturbed during active period    2\n",
      "perturbed during active period      2\n",
      "active period control               2\n",
      "sleep period control                2\n",
      "dtype: int64\n"
     ]
    },
    {
     "data": {
      "text/plain": [
       "<Axes: >"
      ]
     },
     "execution_count": 83,
     "metadata": {},
     "output_type": "execute_result"
    },
    {
     "data": {
      "image/png": "[encoded data removed]",
      "text/plain": [
       "<Figure size 640x480 with 1 Axes>"
      ]
     },
     "metadata": {},
     "output_type": "display_data"
    }
   ],
   "source": [
    "# É preciso converter para um objeto tipo pandas para poder usar o value_counts()\n",
    "\n",
    "treinoY_series = pd.Series(treinoY) \n",
    "contagem_treino = treinoY_series.value_counts()\n",
    "print(contagem_treino)\n",
    "contagem_treino.plot.pie()"
   ]
  },
  {
   "cell_type": "code",
   "execution_count": 84,
   "id": "39d8257e",
   "metadata": {},
   "outputs": [
    {
     "name": "stdout",
     "output_type": "stream",
     "text": [
      "sleep deprived                      3\n",
      "sleep                               2\n",
      "sleep period control                1\n",
      "unperturbed during active period    1\n",
      "active period control               1\n",
      "perturbed during active period      1\n",
      "dtype: int64\n"
     ]
    },
    {
     "data": {
      "text/plain": [
       "<Axes: >"
      ]
     },
     "execution_count": 84,
     "metadata": {},
     "output_type": "execute_result"
    },
    {
     "data": {
      "image/png": "[encoded data removed]",
      "text/plain": [
       "<Figure size 640x480 with 1 Axes>"
      ]
     },
     "metadata": {},
     "output_type": "display_data"
    }
   ],
   "source": [
    "testeY_series = pd.Series(testeY)\n",
    "contagem_teste = testeY_series.value_counts()\n",
    "print(contagem_teste)\n",
    "contagem_teste.plot.pie()"
   ]
  },
  {
   "cell_type": "markdown",
   "id": "a574522a",
   "metadata": {},
   "source": [
    "#### K-nearest neightbors (KNN)"
   ]
  },
  {
   "cell_type": "code",
   "execution_count": 85,
   "id": "439dce1a",
   "metadata": {},
   "outputs": [
    {
     "name": "stdout",
     "output_type": "stream",
     "text": [
      "Accuracy:  0.7777777777777778\n"
     ]
    }
   ],
   "source": [
    "from sklearn.metrics import accuracy_score\n",
    "\n",
    "knn = KNeighborsClassifier()\n",
    "knn.fit(treinoX, treinoY)\n",
    "preds_knn = knn.predict(testeX)\n",
    "print('Accuracy: ', accuracy_score(preds_knn, testeY))"
   ]
  },
  {
   "cell_type": "markdown",
   "id": "d1b3334c",
   "metadata": {},
   "source": [
    "#### Logistic regression"
   ]
  },
  {
   "cell_type": "code",
   "execution_count": 86,
   "id": "e5ee7f79",
   "metadata": {},
   "outputs": [
    {
     "name": "stdout",
     "output_type": "stream",
     "text": [
      "Accuracy:  0.6666666666666666\n"
     ]
    }
   ],
   "source": [
    "from sklearn import linear_model\n",
    "\n",
    "logistic = linear_model.LogisticRegression(solver = \"liblinear\", multi_class = \"auto\")\n",
    "logistic = logistic.fit(treinoX, treinoY)\n",
    "print('Accuracy: ', logistic.score(testeX,  testeY))"
   ]
  },
  {
   "cell_type": "markdown",
   "id": "9f128335",
   "metadata": {},
   "source": [
    "#### Decision Tree "
   ]
  },
  {
   "cell_type": "code",
   "execution_count": 87,
   "id": "4f446ff6",
   "metadata": {},
   "outputs": [
    {
     "name": "stdout",
     "output_type": "stream",
     "text": [
      "Accuracy:  0.5555555555555556\n"
     ]
    }
   ],
   "source": [
    "from sklearn import tree\n",
    "\n",
    "tree_model = tree.DecisionTreeClassifier()\n",
    "tree_model = tree_model.fit(treinoX, treinoY)\n",
    "print('Accuracy: ', tree_model.score(testeX,  testeY))"
   ]
  },
  {
   "cell_type": "markdown",
   "id": "c6bf4433",
   "metadata": {},
   "source": [
    "#### SVMs linear kernel"
   ]
  },
  {
   "cell_type": "code",
   "execution_count": 88,
   "id": "fccc9773",
   "metadata": {},
   "outputs": [
    {
     "name": "stdout",
     "output_type": "stream",
     "text": [
      "Accuracy:  0.6666666666666666\n"
     ]
    }
   ],
   "source": [
    "from sklearn import svm\n",
    "\n",
    "svm_model = svm.SVC(kernel='linear', C=1)\n",
    "svm_model = svm_model.fit(treinoX, treinoY)\n",
    "print('Accuracy: ', svm_model.score(testeX,  testeY))"
   ]
  },
  {
   "cell_type": "markdown",
   "id": "59c60efb",
   "metadata": {},
   "source": [
    "#### SVMs RBF kernel"
   ]
  },
  {
   "cell_type": "code",
   "execution_count": 89,
   "id": "4ca041de",
   "metadata": {},
   "outputs": [
    {
     "name": "stdout",
     "output_type": "stream",
     "text": [
      "Accuracy:  0.2222222222222222\n"
     ]
    }
   ],
   "source": [
    "from sklearn import svm\n",
    "\n",
    "svm_model = svm.SVC(gamma=0.003,C=3)\n",
    "svm_model = svm_model.fit(treinoX, treinoY)\n",
    "print('Accuracy: ', svm_model.score(testeX,  testeY))"
   ]
  },
  {
   "cell_type": "markdown",
   "id": "d5e3032d",
   "metadata": {},
   "source": [
    "#### Random forest"
   ]
  },
  {
   "cell_type": "code",
   "execution_count": 90,
   "id": "94b5a93c",
   "metadata": {},
   "outputs": [
    {
     "name": "stdout",
     "output_type": "stream",
     "text": [
      "Score Random Forest: 0.6666666666666666\n"
     ]
    }
   ],
   "source": [
    "from sklearn.ensemble import RandomForestClassifier\n",
    "\n",
    "rf_model = RandomForestClassifier(n_estimators=100)\n",
    "rf_model.fit(treinoX, treinoY)\n",
    "previsoes = rf_model.predict(testeX)\n",
    "\n",
    "score_rf = accuracy_score(testeY, previsoes)\n",
    "\n",
    "print(\"Score Random Forest:\", score_rf)"
   ]
  },
  {
   "cell_type": "markdown",
   "id": "ed2f960f",
   "metadata": {},
   "source": [
    "#### Naive Bayes"
   ]
  },
  {
   "cell_type": "code",
   "execution_count": 91,
   "id": "d6cba358",
   "metadata": {},
   "outputs": [
    {
     "name": "stdout",
     "output_type": "stream",
     "text": [
      "Accuracy:  0.4444444444444444\n"
     ]
    }
   ],
   "source": [
    "from sklearn.naive_bayes import GaussianNB\n",
    "\n",
    "gnb_model = GaussianNB()\n",
    "gnb_model = gnb_model.fit(treinoX, treinoY)\n",
    "print('Accuracy: ', gnb_model.score(testeX,  testeY))"
   ]
  },
  {
   "cell_type": "code",
   "execution_count": 92,
   "metadata": {},
   "outputs": [
    {
     "name": "stdout",
     "output_type": "stream",
     "text": [
      "                Modelo  Accuracy\n",
      "0         K-Neighbours  0.777778\n",
      "1  Logistic regression  0.666667\n",
      "2        Decision Tree  0.555556\n",
      "3        Random forest  0.222222\n",
      "4   SVMs linear kernel  0.222222\n",
      "5      SVMs RBF kernel  0.666667\n",
      "6          Naive Bayes  0.444444\n"
     ]
    }
   ],
   "source": [
    "tab = {'Modelo': ['K-Neighbours', 'Logistic regression','Decision Tree','Random forest', 'SVMs linear kernel', 'SVMs RBF kernel' ,'Naive Bayes'],\n",
    "        'Accuracy': [ accuracy_score(preds_knn, testeY), logistic.score(testeX,  testeY), tree_model.score(testeX,  testeY), svm_model.score(testeX,  testeY), svm_model.score(testeX,  testeY), accuracy_score(testeY, previsoes), gnb_model.score(testeX,  testeY) ],\n",
    "        }\n",
    "tabela = pd.DataFrame(tab)\n",
    "\n",
    "print(tabela.to_string())"
   ]
  },
  {
   "cell_type": "markdown",
   "metadata": {},
   "source": [
    "A capacidade preditiva dos modelos em relação ao tipo de ambiente ('protocol') ao qual as moscas foram submetidas revelou-se insuficiente, evidenciada pelos valores de 'accuracy' obtidos nos 6 modelos utilizados. O cenário ideal seria a precisão na previsão do conjunto da coluna relevante nos metadados: 'protocol'. Em outras palavras, os modelos deveriam ser capazes de antecipar o ambiente específico ao qual as moscas foram expostas.\n",
    "\n",
    "Esta dificuldade pode ser atribuída ao número extremamente limitado de amostras disponíveis (apenas 30). A escassez de dados resulta em um conjunto de treino muito reduzido (apenas 21, dado que o dataset foi dividido em 2/3 para teste e 1/3 para treino), fornecendo aos modelos uma quantidade limitada de informações para estabelecerem relações de forma robusta.\n",
    "\n",
    "Apesar dessas limitações, conduziu-se uma análise de validação cruzada na tentativa de avaliar o desempenho relativo de cada modelo."
   ]
  },
  {
   "cell_type": "markdown",
   "id": "fa73a8f9",
   "metadata": {},
   "source": [
    "### Modelos com Cross-Validation"
   ]
  },
  {
   "cell_type": "markdown",
   "id": "0c09b3d3",
   "metadata": {},
   "source": [
    "#### K-nearest neighbors"
   ]
  },
  {
   "cell_type": "code",
   "execution_count": 93,
   "id": "cdea06dd",
   "metadata": {},
   "outputs": [
    {
     "name": "stdout",
     "output_type": "stream",
     "text": [
      "Média 0.5\n"
     ]
    }
   ],
   "source": [
    "from sklearn.model_selection import cross_val_score\n",
    "\n",
    "scores_knn = cross_val_score(estimator = knn, X= dados_entrada, y= dados_saida, cv= 3)\n",
    "print(\"Média\", scores_knn.mean())"
   ]
  },
  {
   "cell_type": "markdown",
   "id": "a07bc360",
   "metadata": {},
   "source": [
    "#### Logistic Regression"
   ]
  },
  {
   "cell_type": "code",
   "execution_count": 94,
   "id": "2a362980",
   "metadata": {},
   "outputs": [
    {
     "name": "stdout",
     "output_type": "stream",
     "text": [
      "Média:  0.7666666666666666\n"
     ]
    }
   ],
   "source": [
    "scores_logistic = cross_val_score(estimator = logistic, X= dados_entrada, y= dados_saida, cv= 3)\n",
    "print('Média: ', scores_logistic.mean())"
   ]
  },
  {
   "cell_type": "markdown",
   "id": "263c4491",
   "metadata": {},
   "source": [
    "#### Decision Trees"
   ]
  },
  {
   "cell_type": "code",
   "execution_count": 95,
   "metadata": {},
   "outputs": [
    {
     "name": "stdout",
     "output_type": "stream",
     "text": [
      "Média:  0.5333333333333333\n"
     ]
    }
   ],
   "source": [
    "scores_tree_model = cross_val_score(estimator = tree_model, X= dados_entrada, y= dados_saida, cv= 3)\n",
    "print('Média: ', scores_tree_model.mean())"
   ]
  },
  {
   "cell_type": "markdown",
   "id": "68e33450",
   "metadata": {},
   "source": [
    "#### SVMs Linear Kernel"
   ]
  },
  {
   "cell_type": "code",
   "execution_count": 96,
   "id": "0636cb2a",
   "metadata": {},
   "outputs": [
    {
     "name": "stdout",
     "output_type": "stream",
     "text": [
      "Média:  0.6666666666666666\n"
     ]
    }
   ],
   "source": [
    "from sklearn import svm\n",
    "\n",
    "svm_linear = svm.SVC(kernel = \"linear\")\n",
    "\n",
    "score_svm = cross_val_score(svm_linear, dados_entrada, dados_saida, cv = 3)\n",
    "print('Média: ', score_svm.mean())"
   ]
  },
  {
   "cell_type": "markdown",
   "id": "1af24156",
   "metadata": {},
   "source": [
    "#### SVMs RBF kernel"
   ]
  },
  {
   "cell_type": "code",
   "execution_count": 97,
   "id": "af1b42b3",
   "metadata": {},
   "outputs": [
    {
     "name": "stdout",
     "output_type": "stream",
     "text": [
      "Média:  0.6666666666666666\n"
     ]
    }
   ],
   "source": [
    "from sklearn import svm\n",
    "\n",
    "svm_model = svm.SVC(gamma=0.001, C=10.)\n",
    "\n",
    "score_svm2 = cross_val_score(svm_model, dados_entrada, dados_saida, cv = 3)\n",
    "print('Média: ', score_svm2.mean())"
   ]
  },
  {
   "cell_type": "markdown",
   "id": "4fd0c8c7",
   "metadata": {},
   "source": [
    "#### Random Forest"
   ]
  },
  {
   "cell_type": "code",
   "execution_count": 98,
   "id": "97f0cf93",
   "metadata": {},
   "outputs": [
    {
     "name": "stdout",
     "output_type": "stream",
     "text": [
      "Média:  0.6666666666666666\n"
     ]
    }
   ],
   "source": [
    "from sklearn.ensemble import RandomForestClassifier\n",
    "\n",
    "rf_model = RandomForestClassifier(n_estimators=100)\n",
    "\n",
    "score_rf = cross_val_score(svm_model, dados_entrada, dados_saida, cv = 3)\n",
    "print('Média: ', score_rf.mean())"
   ]
  },
  {
   "cell_type": "markdown",
   "id": "1225abf4",
   "metadata": {},
   "source": [
    "#### Naive Bayes"
   ]
  },
  {
   "cell_type": "code",
   "execution_count": 99,
   "id": "1ca52271",
   "metadata": {},
   "outputs": [
    {
     "name": "stdout",
     "output_type": "stream",
     "text": [
      "Média:  0.4333333333333333\n"
     ]
    }
   ],
   "source": [
    "scores_gnb_model = cross_val_score(estimator = gnb_model, X= dados_entrada, y= dados_saida, cv= 3)\n",
    "print('Média: ', scores_gnb_model.mean())"
   ]
  },
  {
   "cell_type": "code",
   "execution_count": 100,
   "id": "ea34004c",
   "metadata": {},
   "outputs": [
    {
     "name": "stdout",
     "output_type": "stream",
     "text": [
      "                Modelo   Average\n",
      "0         K-Neighbours  0.500000\n",
      "1  Logistic regression  0.766667\n",
      "2        Decision Tree  0.533333\n",
      "3        Random forest  0.666667\n",
      "4   SVMs linear kernel  0.666667\n",
      "5      SVMs RBF kernel  0.666667\n",
      "6          Naive Bayes  0.433333\n"
     ]
    }
   ],
   "source": [
    "tab = {'Modelo': ['K-Neighbours', 'Logistic regression','Decision Tree','Random forest', 'SVMs linear kernel', 'SVMs RBF kernel' ,'Naive Bayes'],\n",
    "        \"Average\": [scores_knn.mean(), scores_logistic.mean(), scores_tree_model.mean(), score_svm.mean(), score_svm2.mean(),score_rf.mean(), scores_gnb_model.mean()],\n",
    "        }\n",
    "tabela = pd.DataFrame(tab)\n",
    "\n",
    "print(tabela.to_string())\n",
    "\n"
   ]
  },
  {
   "cell_type": "markdown",
   "id": "3aa608b9",
   "metadata": {},
   "source": [
    "### 2ª Estratégia"
   ]
  },
  {
   "cell_type": "markdown",
   "id": "d63c8db9",
   "metadata": {},
   "source": [
    "A partir dos dados filtrados obtidos na estatística da etapa 1, que tinha como objetivo reduzir a dimensionalidade da base de dados, nesta segunda estratégia iremos verificar se os resultados a partir destes dados são melhores que os obtidos na estratégia anterior."
   ]
  },
  {
   "cell_type": "code",
   "execution_count": 101,
   "id": "9a8bedcf",
   "metadata": {},
   "outputs": [
    {
     "name": "stdout",
     "output_type": "stream",
     "text": [
      "                Modelo  Accuracy  Média CV\n",
      "0         K-Neighbours       0.3  0.466667\n",
      "1  Regressao Logistica       0.2  0.333333\n",
      "2        Decision Tree       0.5  0.400000\n",
      "3           SVM Linear       0.5  0.433333\n",
      "4              SVM RBF       0.5  0.266667\n",
      "5        Random Forest       0.4  0.433333\n",
      "6          Naive Bayes       0.4  0.333333\n"
     ]
    }
   ],
   "source": [
    "from sklearn import linear_model, svm, tree\n",
    "from sklearn.ensemble import RandomForestClassifier\n",
    "from sklearn.metrics import accuracy_score\n",
    "from sklearn.model_selection import cross_val_score, train_test_split\n",
    "from sklearn.naive_bayes import GaussianNB\n",
    "\n",
    "\n",
    "input_data = data_kbest.values\n",
    "#output_data = meta_data['labels'].values\n",
    "output_data = metaDados['protocol'].values\n",
    "input_sc = preprocessing.scale(input_data)\n",
    "\n",
    "treinoX, testeX, treinoY, testeY = train_test_split(input_sc, output_data, train_size=2/3, random_state=0)\n",
    "\n",
    "#K-Neighbours\n",
    "knn = KNeighborsClassifier()\n",
    "knn.fit(treinoX, treinoY)\n",
    "preds_knn = knn.predict(testeX)\n",
    "      \n",
    "scores_knn = cross_val_score(estimator = knn, X= input_sc, y= output_data, cv= 3)\n",
    "\n",
    "#Regressão Logística\n",
    "logistic = linear_model.LogisticRegression(C=1e5, solver = \"liblinear\", multi_class = \"auto\")\n",
    "logistic = logistic.fit(treinoX, treinoY)\n",
    "\n",
    "scores_logistic = cross_val_score(estimator = logistic, X= input_sc, y= output_data, cv= 3)\n",
    "\n",
    "#Decision Tree\n",
    "tree_model = tree.DecisionTreeClassifier()\n",
    "tree_model = tree_model.fit(treinoX, treinoY)\n",
    "\n",
    "scores_tree_model = cross_val_score(estimator = tree_model, X= input_sc, y= output_data, cv= 3)\n",
    "\n",
    "\n",
    "#SVM Linear\n",
    "svm_model = svm.SVC(kernel='linear', C=1)\n",
    "svm_model = svm_model.fit(treinoX, treinoY)\n",
    "\n",
    "scores_svm = cross_val_score(estimator = svm_model, X= input_sc, y= output_data, cv= 3)\n",
    "\n",
    "\n",
    "#SVM RBF\n",
    "\n",
    "svm_modelRBF = svm.SVC(gamma=0.003,C=3)\n",
    "svm_modelRBF = svm_model.fit(treinoX, treinoY)\n",
    "\n",
    "svm_modelRBF2 = svm.SVC(gamma=0.001, C=10.)\n",
    "score_svmRBF = cross_val_score(svm_modelRBF2, input_sc, output_data, cv = 3)\n",
    "\n",
    "\n",
    "#Random Forest\n",
    "rf_model = RandomForestClassifier(n_estimators=100)\n",
    "rf_model.fit(treinoX, treinoY)\n",
    "previsoes = rf_model.predict(testeX)\n",
    "\n",
    "score_rf = accuracy_score(testeY, previsoes)\n",
    "score_rf2 = cross_val_score(svm_model, input_sc, output_data, cv = 3)\n",
    "\n",
    "#Naive Bayes\n",
    "gnb_model = GaussianNB()\n",
    "gnb_model = gnb_model.fit(treinoX, treinoY)\n",
    "\n",
    "scores_gnb_model = cross_val_score(estimator = gnb_model, X= input_sc, y= output_data, cv= 3)\n",
    "\n",
    "#Tabela\n",
    "tab = {'Modelo': ['K-Neighbours','Regressao Logistica','Decision Tree','SVM Linear',\"SVM RBF\", \"Random Forest\", 'Naive Bayes'],\n",
    "        'Accuracy': [accuracy_score(preds_knn, testeY), logistic.score(testeX,  testeY), tree_model.score(testeX,  testeY),  svm_model.score(testeX,  testeY),svm_modelRBF.score(testeX,testeY),rf_model.score(testeX,testeY), gnb_model.score(testeX,  testeY)],\n",
    "        'Média CV': [scores_knn.mean(), scores_logistic.mean(), scores_tree_model.mean(), scores_svm.mean(), score_svmRBF.mean(),score_rf2.mean(), scores_gnb_model.mean()]}\n",
    "tabela = pd.DataFrame(tab)\n",
    "\n",
    "# Print the dataframe as a table\n",
    "print(tabela.to_string())"
   ]
  },
  {
   "cell_type": "markdown",
   "id": "c47b59df",
   "metadata": {},
   "source": [
    "# Conclusão"
   ]
  },
  {
   "cell_type": "markdown",
   "id": "d9486ab8",
   "metadata": {},
   "source": [
    "Ao longo desta investigação, constatou-se que um dos desafios prementes, para além da limitada quantidade de amostras, reside na elevada dimensionalidade do conjunto de dados. Essa característica pode comprometer a robustez dos modelos desenvolvidos e a sua aplicabilidade futura, em virtude da procura por relações na expressão de genes que possuem um impacto mínimo derivado da privação do sono.\n",
    "\n",
    "Neste contexto, direcionou-se uma atenção acrescida para o estudo de parâmetros estatísticos pertinentes, visando a redução da dimensionalidade. Este foco visa não apenas aprimorar a generalização dos modelos, mas também a consideração de outros fatores cruciais para a qualidade das análises efetuadas.\n",
    "\n",
    "Debruçando-se sobre o *machine learning* aplicado a ambas as estratégias, é possível inferir que na *accuracy* da segunda estratégia obteve-se melhores resultados."
   ]
  }
 ],
 "metadata": {
  "kernelspec": {
   "display_name": "Python 3 (ipykernel)",
   "language": "python",
   "name": "python3"
  },
  "language_info": {
   "codemirror_mode": {
    "name": "ipython",
    "version": 3
   },
   "file_extension": ".py",
   "mimetype": "text/x-python",
   "name": "python",
   "nbconvert_exporter": "python",
   "pygments_lexer": "ipython3",
   "version": "3.11.4"
  }
 },
 "nbformat": 4,
 "nbformat_minor": 5
}
